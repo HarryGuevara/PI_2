{
 "cells": [
  {
   "cell_type": "code",
   "execution_count": 4,
   "metadata": {},
   "outputs": [
    {
     "name": "stdout",
     "output_type": "stream",
     "text": [
      "Hojas de cálculo en el archivo: ['Acc_vel_loc_sinrangos', 'Velocidad_sin_Rangos', 'Accesos_tecnologia_localidad', 'Velocidad % por prov', 'Totales VMD', 'Totales Accesos Por Tecnología', 'Accesos Por Tecnología', 'Penetración-poblacion', 'Penetracion-hogares', 'Penetracion-totales', 'Totales Accesos por rango', 'Accesos por rangos', 'Dial-BAf', 'Totales Dial-BAf', 'Ingresos ']\n",
      "Archivo guardado: C:/Users/maron.LAPTOP-UEJMOSD4/Desktop/PI_2/DATA_LIMPIOAcc_vel_loc_sinrangos.csv\n",
      "Archivo guardado: C:/Users/maron.LAPTOP-UEJMOSD4/Desktop/PI_2/DATA_LIMPIOVelocidad_sin_Rangos.csv\n",
      "Archivo guardado: C:/Users/maron.LAPTOP-UEJMOSD4/Desktop/PI_2/DATA_LIMPIOAccesos_tecnologia_localidad.csv\n",
      "Archivo guardado: C:/Users/maron.LAPTOP-UEJMOSD4/Desktop/PI_2/DATA_LIMPIOVelocidad % por prov.csv\n",
      "Archivo guardado: C:/Users/maron.LAPTOP-UEJMOSD4/Desktop/PI_2/DATA_LIMPIOTotales VMD.csv\n",
      "Archivo guardado: C:/Users/maron.LAPTOP-UEJMOSD4/Desktop/PI_2/DATA_LIMPIOTotales Accesos Por Tecnología.csv\n",
      "Archivo guardado: C:/Users/maron.LAPTOP-UEJMOSD4/Desktop/PI_2/DATA_LIMPIOAccesos Por Tecnología.csv\n",
      "Archivo guardado: C:/Users/maron.LAPTOP-UEJMOSD4/Desktop/PI_2/DATA_LIMPIOPenetración-poblacion.csv\n",
      "Archivo guardado: C:/Users/maron.LAPTOP-UEJMOSD4/Desktop/PI_2/DATA_LIMPIOPenetracion-hogares.csv\n",
      "Archivo guardado: C:/Users/maron.LAPTOP-UEJMOSD4/Desktop/PI_2/DATA_LIMPIOPenetracion-totales.csv\n",
      "Archivo guardado: C:/Users/maron.LAPTOP-UEJMOSD4/Desktop/PI_2/DATA_LIMPIOTotales Accesos por rango.csv\n",
      "Archivo guardado: C:/Users/maron.LAPTOP-UEJMOSD4/Desktop/PI_2/DATA_LIMPIOAccesos por rangos.csv\n",
      "Archivo guardado: C:/Users/maron.LAPTOP-UEJMOSD4/Desktop/PI_2/DATA_LIMPIODial-BAf.csv\n",
      "Archivo guardado: C:/Users/maron.LAPTOP-UEJMOSD4/Desktop/PI_2/DATA_LIMPIOTotales Dial-BAf.csv\n",
      "Archivo guardado: C:/Users/maron.LAPTOP-UEJMOSD4/Desktop/PI_2/DATA_LIMPIOIngresos .csv\n"
     ]
    }
   ],
   "source": [
    "import pandas as pd\n",
    "import matplotlib.pyplot as plt\n",
    "import seaborn as sns\n",
    "import numpy as np\n",
    "from thefuzz import process\n",
    "from thefuzz import process, fuzz\n",
    "\n",
    "\n",
    "#PASO 1: cargar dataset\n",
    "ruta_archivo = 'C:/Users/maron.LAPTOP-UEJMOSD4/Desktop/PI_2/Internet.xlsx'\n",
    "\n",
    "# Paso 2: Cargar el archivo y obtener los nombres de las hojas\n",
    "xls = pd.ExcelFile(ruta_archivo)\n",
    "nombres_hojas = xls.sheet_names\n",
    "print(\"Hojas de cálculo en el archivo:\", nombres_hojas)\n",
    "\n",
    "# Paso 3: Crear un DataFrame por cada hoja y guardarlo en la carpeta DATA_LIMPIO\n",
    "for hoja in nombres_hojas:\n",
    "    df = pd.read_excel(ruta_archivo, sheet_name=hoja)\n",
    "    nombre_archivo = f\"C:/Users/maron.LAPTOP-UEJMOSD4/Desktop/PI_2/DATA_LIMPIO{hoja}.csv\"\n",
    "    df.to_csv(nombre_archivo, index=False)\n",
    "    print(f\"Archivo guardado: {nombre_archivo}\")"
   ]
  },
  {
   "cell_type": "code",
   "execution_count": 8,
   "metadata": {},
   "outputs": [
    {
     "name": "stdout",
     "output_type": "stream",
     "text": [
      "Mostrando las primeras 5 filas de C:/Users/maron.LAPTOP-UEJMOSD4/Desktop/PI_2/DATA_LIMPIO/Acc_vel_loc_sinrangos.csv:\n",
      "      Provincia     Partido   Localidad link Indec  Velocidad (Mbps)  Accesos\n",
      "0  BUENOS AIRES  25 de Mayo  25 de Mayo    6854100              0.00      1.0\n",
      "1  BUENOS AIRES  25 de Mayo  25 de Mayo    6854100              0.50      2.0\n",
      "2  BUENOS AIRES  25 de Mayo  25 de Mayo    6854100              0.75     19.0\n",
      "3  BUENOS AIRES  25 de Mayo  25 de Mayo    6854100              3.00     85.0\n",
      "4  BUENOS AIRES  25 de Mayo  25 de Mayo    6854100              3.50    145.0\n"
     ]
    }
   ],
   "source": [
    "import pandas as pd\n",
    "\n",
    "# Reemplaza 'nombre_archivo.csv' con el nombre de tu archivo CSV\n",
    "archivo_csv = 'C:/Users/maron.LAPTOP-UEJMOSD4/Desktop/PI_2/DATA_LIMPIO/Acc_vel_loc_sinrangos.csv'\n",
    "\n",
    "# Carga el archivo CSV en un DataFrame\n",
    "df_Acc_vel_loc_sinrangos = pd.read_csv(archivo_csv)\n",
    "\n",
    "# Muestra las primeras 5 filas del DataFrame\n",
    "print(f\"Mostrando las primeras 5 filas de {archivo_csv}:\")\n",
    "print(df_Acc_vel_loc_sinrangos.head())"
   ]
  },
  {
   "cell_type": "code",
   "execution_count": null,
   "metadata": {},
   "outputs": [],
   "source": [
    "\n",
    "\n"
   ]
  },
  {
   "cell_type": "code",
   "execution_count": 10,
   "metadata": {},
   "outputs": [
    {
     "name": "stdout",
     "output_type": "stream",
     "text": [
      "        país     Provincia     Partido   Localidad link Indec  \\\n",
      "0  Argentina  BUENOS AIRES  25 de Mayo  25 de Mayo    6854100   \n",
      "1  Argentina  BUENOS AIRES  25 de Mayo  25 de Mayo    6854100   \n",
      "2  Argentina  BUENOS AIRES  25 de Mayo  25 de Mayo    6854100   \n",
      "3  Argentina  BUENOS AIRES  25 de Mayo  25 de Mayo    6854100   \n",
      "4  Argentina  BUENOS AIRES  25 de Mayo  25 de Mayo    6854100   \n",
      "\n",
      "   Velocidad (Mbps)  Accesos  \n",
      "0              0.00      1.0  \n",
      "1              0.50      2.0  \n",
      "2              0.75     19.0  \n",
      "3              3.00     85.0  \n",
      "4              3.50    145.0  \n"
     ]
    }
   ],
   "source": [
    "import pandas as pd\n",
    "\n",
    "# Cargar el archivo CSV original\n",
    "df_Acc_vel_loc_sinrangos = pd.read_csv(\"C:/Users/maron.LAPTOP-UEJMOSD4/Desktop/PI_2/DATA_LIMPIO/Acc_vel_loc_sinrangos.csv\")\n",
    "\n",
    "# Agregar la columna 'país' con el valor 'Argentina'\n",
    "df_Acc_vel_loc_sinrangos['país'] = 'Argentina'\n",
    "\n",
    "# Reordenar las columnas para que 'país' esté al principio\n",
    "columns = ['país'] + [col for col in df_Acc_vel_loc_sinrangos.columns if col != 'país']\n",
    "df_Acc_vel_loc_sinrangos = df_Acc_vel_loc_sinrangos[columns]\n",
    "\n",
    "# Verificar los primeros registros para asegurarte de que la columna 'país' fue agregada correctamente\n",
    "print(df_Acc_vel_loc_sinrangos.head())"
   ]
  },
  {
   "cell_type": "code",
   "execution_count": 11,
   "metadata": {},
   "outputs": [
    {
     "name": "stdout",
     "output_type": "stream",
     "text": [
      "Valores únicos en 'Provincia':\n",
      "['BUENOS AIRES' 'CABA' 'CATAMARCA' 'CHACO' 'CHUBUT' 'CORDOBA' 'CORRIENTES'\n",
      " 'ENTRE RIOS' 'FORMOSA' 'JUJUY' 'LA PAMPA' 'LA RIOJA' 'MENDOZA' 'MISIONES'\n",
      " 'NEUQUEN' 'RIO NEGRO' 'SALTA' 'SAN JUAN' 'SAN LUIS' 'SANTA CRUZ'\n",
      " 'SANTA FE' 'SANTIAGO DEL ESTERO' 'TIERRA DEL FUEGO' 'TUCUMAN']\n"
     ]
    }
   ],
   "source": [
    "print(\"Valores únicos en 'Provincia':\")\n",
    "print(df_Acc_vel_loc_sinrangos['Provincia'].unique())\n"
   ]
  },
  {
   "cell_type": "code",
   "execution_count": 13,
   "metadata": {},
   "outputs": [
    {
     "name": "stdout",
     "output_type": "stream",
     "text": [
      "Valores únicos en 'Partido':\n",
      "['25 de Mayo' '9 de Julio' 'Adolfo Alsina' 'Adolfo Gonzales Chaves'\n",
      " 'Alberti' 'Almirante Brown' 'AMBA' 'Arrecifes' 'Avellaneda' 'Ayacucho'\n",
      " 'Azul' 'Bahía Blanca' 'Balcarce' 'Baradero' 'Benito Juárez' 'Berazategui'\n",
      " 'Berisso' 'Bolívar' 'Bragado' 'Brandsen' 'Campana' 'Cañuelas'\n",
      " 'Capitán Sarmiento' 'Carlos Casares' 'Carlos Tejedor' 'Carmen de Areco'\n",
      " 'Castelli' 'Chacabuco' 'Chascomús' 'Chivilcoy' 'Colón'\n",
      " 'Coronel de Marina L. Rosales' 'Coronel Dorrego' 'Coronel Pringles'\n",
      " 'Coronel Suárez' 'Daireaux' 'Dolores' 'Ensenada' 'Escobar'\n",
      " 'Esteban Echeverría' 'Exaltación de la Cruz' 'Ezeiza' 'Florencio Varela'\n",
      " 'Florentino Ameghino' 'General Alvarado' 'General Alvear'\n",
      " 'General Arenales' 'General Belgrano' 'General Guido'\n",
      " 'General Juan Madariaga' 'General La Madrid' 'General Las Heras'\n",
      " 'General Lavalle' 'General Paz' 'General Pinto' 'General Pueyrredón'\n",
      " 'General Rodríguez' 'General San Martín' 'General Viamonte'\n",
      " 'General Villegas' 'Guaminí' 'Hipólito Yrigoyen' 'Hurlingham' 'Ituzaingó'\n",
      " 'José C. Paz' 'Junín' 'La Costa' 'La Matanza' 'La Plata' 'Lanús'\n",
      " 'Laprida' 'Las Flores' 'Leandro N. Alem' 'Lincoln' 'Lobería' 'Lobos'\n",
      " 'Lomas De Zamora' 'Luján' 'Magdalena' 'Maipú' 'Malvinas Argentinas'\n",
      " 'Mar Chiquita' 'Marcos Paz' 'Mercedes' 'Merlo' 'Monte' 'Monte Hermoso'\n",
      " 'Moreno' 'Morón' 'Navarro' 'Necochea' 'Olavarría' 'OTROS' 'Patagones'\n",
      " 'Pehuajó' 'Pellegrini' 'Pergamino' 'Pila' 'Pilar' 'Pinamar'\n",
      " 'Presidente Perón' 'Puán' 'Punta Indio' 'Quilmes' 'Ramallo' 'Rauch'\n",
      " 'Rivadavia' 'Rojas' 'Roque Pérez' 'Saavedra' 'Saladillo' 'Salliqueló'\n",
      " 'Salto' 'San Andrés de Giles' 'San Antonio de Areco' 'San Cayetano'\n",
      " 'San Fernando' 'San Isidro' 'San Miguel' 'San Nicolás' 'San Pedro'\n",
      " 'San Vicente' 'Suipacha' 'Tandil' 'Tapalqué' 'Tigre' 'Tordillo'\n",
      " 'Tornquist' 'Trenque Lauquen' 'Tres Arroyos' 'Tres De Febrero'\n",
      " 'Tres Lomas' 'Vicente López' 'Villa Gesell' 'Villarino' 'Zárate'\n",
      " 'Ciudad Autónoma de Buenos Aires' 'Otros' 'Ambato' 'Ancasti' 'Andalgalá'\n",
      " 'Antofagasta de la Sierra' 'Belén' 'Capayán' 'Capital' 'El Alto'\n",
      " 'Fray Mamerto Esquiú' 'La Paz' 'Paclín' 'Pomán' 'Santa María'\n",
      " 'Santa Rosa' 'Tinogasta' 'Valle Viejo' '12 de Octubre' '1º de Mayo'\n",
      " '2 de Abril' 'Bermejo' 'Comandante Fernández'\n",
      " 'Fray Justo Santa María De Oro' 'Fray Justo Santa María de Oro'\n",
      " 'General Donovan' 'General Güemes' 'Independencia' 'Libertad'\n",
      " 'Libertador General San Martín' 'Mayor Luis J. Fontana' 'O Higgins'\n",
      " 'Presidencia de la Plaza' 'Quitilipi' 'San Lorenzo' 'Sargento Cabral'\n",
      " 'Tapenagá' 'Biedma' 'Cushamen' 'Escalante' 'Futaleufú' 'Gaiman' 'Gastre'\n",
      " 'Languiñeo' 'Mártires' 'Paso de Indios' 'Rawson' 'Río Senguer'\n",
      " 'Sarmiento' 'Tehuelches' 'Telsen' 'Calamuchita' 'Cruz del Eje'\n",
      " 'General Roca' 'Ischilín' 'Juárez Celman' 'Marcos Juárez' 'Minas' 'Pocho'\n",
      " 'Presidente Roque Sáenz Peña' 'Punilla' 'Río Cuarto' 'Río Primero'\n",
      " 'Río Seco' 'Río Segundo' 'San Alberto' 'San Javier' 'San Justo'\n",
      " 'Sobremonte' 'Tercero Arriba' 'Totoral' 'Tulumba' 'Unión' 'Bella Vista'\n",
      " 'Berón de Astrada' 'Concepción' 'Curuzú Cuatiá' 'Empedrado' 'Esquina'\n",
      " 'Goya' 'ItatÍ' 'Lavalle' 'Mburucuyá' 'Monte Caseros' 'Paso de los Libres'\n",
      " 'Saladas' 'San Cosme' 'San Luis del Palmar' 'San Martín' 'San Roque'\n",
      " 'Santo Tomé' 'Sauce' 'Concordia' 'Diamante' 'Federación' 'Federal'\n",
      " 'Feliciano' 'Gualeguay' 'Gualeguaychú' 'Islas del Ibicuy' 'Nogoyá'\n",
      " 'Paraná' 'San Salvador' 'Tala' 'Uruguay' 'Victoria' 'Villaguay' 'Formosa'\n",
      " 'Laishi' 'Matacos' 'Patiño' 'Pilagás' 'Pilcomayo' 'Pirané' 'Ramón Lista'\n",
      " 'Cochinoca' 'Doctor Manuel Belgrano' 'El Carmen' 'Humahuaca' 'Ledesma'\n",
      " 'Palpalá' 'Rinconada' 'San Antonio' 'SANTA BARBARA' 'Santa Catalina'\n",
      " 'Susques' 'Tilcara' 'Tumbaya' 'Valle Grande' 'Yavi' 'Atreucó'\n",
      " 'Caleu Caleu' 'Catriló' 'Chalileo' 'Chapaleufú' 'Chical Co' 'Conhelo'\n",
      " 'Curacó' 'Guatraché' 'Hucal' 'Lihuel Calel' 'Limay Mahuida' 'Loventué'\n",
      " 'Maracó' 'Puelén' 'Quemú Quemú' 'Rancul' 'Realicó' 'Toay' 'Trenel'\n",
      " 'Utracán' 'Arauco' 'Castro Barros' 'Chamical' 'Chilecito'\n",
      " 'Coronel Felipe Varela' 'Famatina' 'General Angel V. Peñaloza'\n",
      " 'General Juan F. Quiroga' 'General Lamadrid' 'General Ocampo'\n",
      " 'Rosario Vera Peñaloza' 'San Blas de los Sauces' 'Sanagasta' 'Vinchina'\n",
      " 'Godoy Cruz' 'Guaymallén' 'Las Heras' 'Luján de Cuyo' 'Malargüe'\n",
      " 'San Carlos' 'San Rafael' 'Tunuyán' 'Tupungato' 'Apóstoles' 'Cainguás'\n",
      " 'Candelaria' 'Eldorado' 'General Manuel Belgrano' 'Guaraní' 'Iguazú'\n",
      " 'Libertador Grl. San Martín' 'Montecarlo' 'Oberá' 'San Ignacio' 'Aluminé'\n",
      " 'Añelo' 'Catan LilL' 'Chos Malal' 'Collón Curá' 'Confluencia' 'Huiliches'\n",
      " 'Lácar' 'Loncopué' 'Los Lagos' 'Ñorquín' 'Pehuenches' 'Picún Leufú'\n",
      " 'Picunches' 'Zapala' 'Bariloche' 'Conesa' 'El Cuy' 'Ñorquincó'\n",
      " 'Pichi Mahuida' 'Pilcaniyeu' 'Valcheta' 'Anta' 'Cachi' 'Cafayate'\n",
      " 'Cerrillos' 'Chicoana' 'Grl. José de San Martín' 'Guachipas' 'Iruya'\n",
      " 'La Caldera' 'La Candelaria' 'La Poma' 'La Viña' 'Los Andes' 'Metán'\n",
      " 'Molinos' 'Orán' 'Rosario de la Frontera' 'Rosario de Lerma'\n",
      " 'Santa Victoria' 'Albardón' 'Angaco' 'Calingasta' 'Caucete' 'Chimbas'\n",
      " 'Iglesia' 'Jáchal' 'Pocito' 'Santa Lucía' 'Ullum' 'Valle Fértil' 'Zonda'\n",
      " 'Belgrano' 'General Pedernera' 'Gobernador Dupuy' 'La Capital'\n",
      " 'Corpen Aike' 'Deseado' 'Güer Aike' 'Lago Argentino' 'Lago Buenos Aires'\n",
      " 'Magallanes' 'Río Chico' 'Caseros' 'Castellanos' 'Constitución' 'Garay'\n",
      " 'General López' 'General Obligado' 'Iriondo' 'Las Colonias' 'Rosario'\n",
      " 'San Cristóbal' 'San Jerónimo' 'Vera' 'Aguirre' 'Alberdi' 'Atamisqui'\n",
      " 'Banda' 'Choya' 'Copo' 'Figueroa' 'General Taboada' 'Guasayán' 'Jiménez'\n",
      " 'Juan F. Ibarra' 'Loreto' 'Mitre' 'Ojo de Agua' 'Quebrachos' 'Río Hondo'\n",
      " 'Robles' 'Salavina' 'Silípica' 'Antartida Argentina'\n",
      " 'ANTARTIDA ARGENTINA' 'Río Grande' 'Ushuaia' 'Burruyacú' 'Chicligasta'\n",
      " 'Cruz Alta' 'Famaillá' 'Graneros' 'Juan Bautista Alberdi' 'La Cocha'\n",
      " 'Leales' 'Lules' 'Monteros' 'Simoca' 'Tafí del Valle' 'Tafí Viejo'\n",
      " 'Trancas' 'Yerba Buena']\n"
     ]
    }
   ],
   "source": [
    "print(\"Valores únicos en 'Partido':\")\n",
    "print(df_Acc_vel_loc_sinrangos['Partido'].unique())"
   ]
  },
  {
   "cell_type": "code",
   "execution_count": 14,
   "metadata": {},
   "outputs": [
    {
     "name": "stdout",
     "output_type": "stream",
     "text": [
      "Valores únicos en 'Localidad':\n",
      "['25 de Mayo' 'Agustín Mosconi' 'Del Valle' ... 'Villa  de Trancas'\n",
      " 'Villa Carmela' 'Yerba Buena - Marcos Paz']\n"
     ]
    }
   ],
   "source": [
    "print(\"Valores únicos en 'Localidad':\")\n",
    "print(df_Acc_vel_loc_sinrangos['Localidad'].unique())"
   ]
  },
  {
   "cell_type": "code",
   "execution_count": 15,
   "metadata": {},
   "outputs": [
    {
     "name": "stdout",
     "output_type": "stream",
     "text": [
      "Conteo de valores únicos en 'Provincia':\n",
      "24\n",
      "Conteo de valores únicos en 'Partido':\n",
      "435\n",
      "Conteo de valores únicos en 'Localidad':\n",
      "2781\n"
     ]
    }
   ],
   "source": [
    "# Contar los valores únicos en cada columna\n",
    "print(\"Conteo de valores únicos en 'Provincia':\")\n",
    "print(df_Acc_vel_loc_sinrangos['Provincia'].nunique())  # Conteo de valores únicos en Provincia\n",
    "\n",
    "print(\"Conteo de valores únicos en 'Partido':\")\n",
    "print(df_Acc_vel_loc_sinrangos['Partido'].nunique())  # Conteo de valores únicos en Partido\n",
    "\n",
    "print(\"Conteo de valores únicos en 'Localidad':\")\n",
    "print(df_Acc_vel_loc_sinrangos['Localidad'].nunique())  # Conteo de valores únicos en Localidad\n"
   ]
  },
  {
   "cell_type": "code",
   "execution_count": 16,
   "metadata": {},
   "outputs": [
    {
     "name": "stdout",
     "output_type": "stream",
     "text": [
      "Valores únicos en 'Provincia':\n",
      "['BUENOS AIRES' 'CABA' 'CATAMARCA' 'CHACO' 'CHUBUT' 'CORDOBA' 'CORRIENTES'\n",
      " 'ENTRE RIOS' 'FORMOSA' 'JUJUY' 'LA PAMPA' 'LA RIOJA' 'MENDOZA' 'MISIONES'\n",
      " 'NEUQUEN' 'RIO NEGRO' 'SALTA' 'SAN JUAN' 'SAN LUIS' 'SANTA CRUZ'\n",
      " 'SANTA FE' 'SANTIAGO DEL ESTERO' 'TIERRA DEL FUEGO' 'TUCUMAN']\n",
      "Valores únicos en 'Partido':\n",
      "['25 de Mayo' '9 de Julio' 'Adolfo Alsina' 'Adolfo Gonzales Chaves'\n",
      " 'Alberti' 'Almirante Brown' 'AMBA' 'Arrecifes' 'Avellaneda' 'Ayacucho'\n",
      " 'Azul' 'Bahía Blanca' 'Balcarce' 'Baradero' 'Benito Juárez' 'Berazategui'\n",
      " 'Berisso' 'Bolívar' 'Bragado' 'Brandsen' 'Campana' 'Cañuelas'\n",
      " 'Capitán Sarmiento' 'Carlos Casares' 'Carlos Tejedor' 'Carmen de Areco'\n",
      " 'Castelli' 'Chacabuco' 'Chascomús' 'Chivilcoy' 'Colón'\n",
      " 'Coronel de Marina L. Rosales' 'Coronel Dorrego' 'Coronel Pringles'\n",
      " 'Coronel Suárez' 'Daireaux' 'Dolores' 'Ensenada' 'Escobar'\n",
      " 'Esteban Echeverría' 'Exaltación de la Cruz' 'Ezeiza' 'Florencio Varela'\n",
      " 'Florentino Ameghino' 'General Alvarado' 'General Alvear'\n",
      " 'General Arenales' 'General Belgrano' 'General Guido'\n",
      " 'General Juan Madariaga' 'General La Madrid' 'General Las Heras'\n",
      " 'General Lavalle' 'General Paz' 'General Pinto' 'General Pueyrredón'\n",
      " 'General Rodríguez' 'General San Martín' 'General Viamonte'\n",
      " 'General Villegas' 'Guaminí' 'Hipólito Yrigoyen' 'Hurlingham' 'Ituzaingó'\n",
      " 'José C. Paz' 'Junín' 'La Costa' 'La Matanza' 'La Plata' 'Lanús'\n",
      " 'Laprida' 'Las Flores' 'Leandro N. Alem' 'Lincoln' 'Lobería' 'Lobos'\n",
      " 'Lomas De Zamora' 'Luján' 'Magdalena' 'Maipú' 'Malvinas Argentinas'\n",
      " 'Mar Chiquita' 'Marcos Paz' 'Mercedes' 'Merlo' 'Monte' 'Monte Hermoso'\n",
      " 'Moreno' 'Morón' 'Navarro' 'Necochea' 'Olavarría' 'OTROS' 'Patagones'\n",
      " 'Pehuajó' 'Pellegrini' 'Pergamino' 'Pila' 'Pilar' 'Pinamar'\n",
      " 'Presidente Perón' 'Puán' 'Punta Indio' 'Quilmes' 'Ramallo' 'Rauch'\n",
      " 'Rivadavia' 'Rojas' 'Roque Pérez' 'Saavedra' 'Saladillo' 'Salliqueló'\n",
      " 'Salto' 'San Andrés de Giles' 'San Antonio de Areco' 'San Cayetano'\n",
      " 'San Fernando' 'San Isidro' 'San Miguel' 'San Nicolás' 'San Pedro'\n",
      " 'San Vicente' 'Suipacha' 'Tandil' 'Tapalqué' 'Tigre' 'Tordillo'\n",
      " 'Tornquist' 'Trenque Lauquen' 'Tres Arroyos' 'Tres De Febrero'\n",
      " 'Tres Lomas' 'Vicente López' 'Villa Gesell' 'Villarino' 'Zárate'\n",
      " 'Ciudad Autónoma de Buenos Aires' 'Otros' 'Ambato' 'Ancasti' 'Andalgalá'\n",
      " 'Antofagasta de la Sierra' 'Belén' 'Capayán' 'Capital' 'El Alto'\n",
      " 'Fray Mamerto Esquiú' 'La Paz' 'Paclín' 'Pomán' 'Santa María'\n",
      " 'Santa Rosa' 'Tinogasta' 'Valle Viejo' '12 de Octubre' '1º de Mayo'\n",
      " '2 de Abril' 'Bermejo' 'Comandante Fernández'\n",
      " 'Fray Justo Santa María De Oro' 'Fray Justo Santa María de Oro'\n",
      " 'General Donovan' 'General Güemes' 'Independencia' 'Libertad'\n",
      " 'Libertador General San Martín' 'Mayor Luis J. Fontana' 'O Higgins'\n",
      " 'Presidencia de la Plaza' 'Quitilipi' 'San Lorenzo' 'Sargento Cabral'\n",
      " 'Tapenagá' 'Biedma' 'Cushamen' 'Escalante' 'Futaleufú' 'Gaiman' 'Gastre'\n",
      " 'Languiñeo' 'Mártires' 'Paso de Indios' 'Rawson' 'Río Senguer'\n",
      " 'Sarmiento' 'Tehuelches' 'Telsen' 'Calamuchita' 'Cruz del Eje'\n",
      " 'General Roca' 'Ischilín' 'Juárez Celman' 'Marcos Juárez' 'Minas' 'Pocho'\n",
      " 'Presidente Roque Sáenz Peña' 'Punilla' 'Río Cuarto' 'Río Primero'\n",
      " 'Río Seco' 'Río Segundo' 'San Alberto' 'San Javier' 'San Justo'\n",
      " 'Sobremonte' 'Tercero Arriba' 'Totoral' 'Tulumba' 'Unión' 'Bella Vista'\n",
      " 'Berón de Astrada' 'Concepción' 'Curuzú Cuatiá' 'Empedrado' 'Esquina'\n",
      " 'Goya' 'ItatÍ' 'Lavalle' 'Mburucuyá' 'Monte Caseros' 'Paso de los Libres'\n",
      " 'Saladas' 'San Cosme' 'San Luis del Palmar' 'San Martín' 'San Roque'\n",
      " 'Santo Tomé' 'Sauce' 'Concordia' 'Diamante' 'Federación' 'Federal'\n",
      " 'Feliciano' 'Gualeguay' 'Gualeguaychú' 'Islas del Ibicuy' 'Nogoyá'\n",
      " 'Paraná' 'San Salvador' 'Tala' 'Uruguay' 'Victoria' 'Villaguay' 'Formosa'\n",
      " 'Laishi' 'Matacos' 'Patiño' 'Pilagás' 'Pilcomayo' 'Pirané' 'Ramón Lista'\n",
      " 'Cochinoca' 'Doctor Manuel Belgrano' 'El Carmen' 'Humahuaca' 'Ledesma'\n",
      " 'Palpalá' 'Rinconada' 'San Antonio' 'SANTA BARBARA' 'Santa Catalina'\n",
      " 'Susques' 'Tilcara' 'Tumbaya' 'Valle Grande' 'Yavi' 'Atreucó'\n",
      " 'Caleu Caleu' 'Catriló' 'Chalileo' 'Chapaleufú' 'Chical Co' 'Conhelo'\n",
      " 'Curacó' 'Guatraché' 'Hucal' 'Lihuel Calel' 'Limay Mahuida' 'Loventué'\n",
      " 'Maracó' 'Puelén' 'Quemú Quemú' 'Rancul' 'Realicó' 'Toay' 'Trenel'\n",
      " 'Utracán' 'Arauco' 'Castro Barros' 'Chamical' 'Chilecito'\n",
      " 'Coronel Felipe Varela' 'Famatina' 'General Angel V. Peñaloza'\n",
      " 'General Juan F. Quiroga' 'General Lamadrid' 'General Ocampo'\n",
      " 'Rosario Vera Peñaloza' 'San Blas de los Sauces' 'Sanagasta' 'Vinchina'\n",
      " 'Godoy Cruz' 'Guaymallén' 'Las Heras' 'Luján de Cuyo' 'Malargüe'\n",
      " 'San Carlos' 'San Rafael' 'Tunuyán' 'Tupungato' 'Apóstoles' 'Cainguás'\n",
      " 'Candelaria' 'Eldorado' 'General Manuel Belgrano' 'Guaraní' 'Iguazú'\n",
      " 'Libertador Grl. San Martín' 'Montecarlo' 'Oberá' 'San Ignacio' 'Aluminé'\n",
      " 'Añelo' 'Catan LilL' 'Chos Malal' 'Collón Curá' 'Confluencia' 'Huiliches'\n",
      " 'Lácar' 'Loncopué' 'Los Lagos' 'Ñorquín' 'Pehuenches' 'Picún Leufú'\n",
      " 'Picunches' 'Zapala' 'Bariloche' 'Conesa' 'El Cuy' 'Ñorquincó'\n",
      " 'Pichi Mahuida' 'Pilcaniyeu' 'Valcheta' 'Anta' 'Cachi' 'Cafayate'\n",
      " 'Cerrillos' 'Chicoana' 'Grl. José de San Martín' 'Guachipas' 'Iruya'\n",
      " 'La Caldera' 'La Candelaria' 'La Poma' 'La Viña' 'Los Andes' 'Metán'\n",
      " 'Molinos' 'Orán' 'Rosario de la Frontera' 'Rosario de Lerma'\n",
      " 'Santa Victoria' 'Albardón' 'Angaco' 'Calingasta' 'Caucete' 'Chimbas'\n",
      " 'Iglesia' 'Jáchal' 'Pocito' 'Santa Lucía' 'Ullum' 'Valle Fértil' 'Zonda'\n",
      " 'Belgrano' 'General Pedernera' 'Gobernador Dupuy' 'La Capital'\n",
      " 'Corpen Aike' 'Deseado' 'Güer Aike' 'Lago Argentino' 'Lago Buenos Aires'\n",
      " 'Magallanes' 'Río Chico' 'Caseros' 'Castellanos' 'Constitución' 'Garay'\n",
      " 'General López' 'General Obligado' 'Iriondo' 'Las Colonias' 'Rosario'\n",
      " 'San Cristóbal' 'San Jerónimo' 'Vera' 'Aguirre' 'Alberdi' 'Atamisqui'\n",
      " 'Banda' 'Choya' 'Copo' 'Figueroa' 'General Taboada' 'Guasayán' 'Jiménez'\n",
      " 'Juan F. Ibarra' 'Loreto' 'Mitre' 'Ojo de Agua' 'Quebrachos' 'Río Hondo'\n",
      " 'Robles' 'Salavina' 'Silípica' 'Antartida Argentina'\n",
      " 'ANTARTIDA ARGENTINA' 'Río Grande' 'Ushuaia' 'Burruyacú' 'Chicligasta'\n",
      " 'Cruz Alta' 'Famaillá' 'Graneros' 'Juan Bautista Alberdi' 'La Cocha'\n",
      " 'Leales' 'Lules' 'Monteros' 'Simoca' 'Tafí del Valle' 'Tafí Viejo'\n",
      " 'Trancas' 'Yerba Buena']\n",
      "Valores únicos en 'Localidad':\n",
      "['25 de Mayo' 'Agustín Mosconi' 'Del Valle' ... 'Villa  de Trancas'\n",
      " 'Villa Carmela' 'Yerba Buena - Marcos Paz']\n"
     ]
    }
   ],
   "source": [
    "# Verificar valores únicos en cada columna\n",
    "print(\"Valores únicos en 'Provincia':\")\n",
    "print(df_Acc_vel_loc_sinrangos['Provincia'].unique())\n",
    "\n",
    "print(\"Valores únicos en 'Partido':\")\n",
    "print(df_Acc_vel_loc_sinrangos['Partido'].unique())\n",
    "\n",
    "print(\"Valores únicos en 'Localidad':\")\n",
    "print(df_Acc_vel_loc_sinrangos['Localidad'].unique())\n"
   ]
  },
  {
   "cell_type": "code",
   "execution_count": 17,
   "metadata": {},
   "outputs": [
    {
     "name": "stdout",
     "output_type": "stream",
     "text": [
      "Número de partidos por provincia:\n",
      "Provincia\n",
      "BUENOS AIRES           136\n",
      "CABA                     2\n",
      "CATAMARCA               17\n",
      "CHACO                   27\n",
      "CHUBUT                  16\n",
      "CORDOBA                 28\n",
      "CORRIENTES              26\n",
      "ENTRE RIOS              18\n",
      "FORMOSA                 10\n",
      "JUJUY                   17\n",
      "LA PAMPA                23\n",
      "LA RIOJA                19\n",
      "MENDOZA                 20\n",
      "MISIONES                18\n",
      "NEUQUEN                 17\n",
      "RIO NEGRO               14\n",
      "SALTA                   25\n",
      "SAN JUAN                21\n",
      "SAN LUIS                10\n",
      "SANTA CRUZ               7\n",
      "SANTA FE                20\n",
      "SANTIAGO DEL ESTERO     28\n",
      "TIERRA DEL FUEGO         5\n",
      "TUCUMAN                 19\n",
      "Name: Partido, dtype: int64\n",
      "Número de localidades por partido:\n",
      "Partido\n",
      "12 de Octubre     4\n",
      "1º de Mayo        2\n",
      "2 de Abril        2\n",
      "25 de Mayo       30\n",
      "9 de Julio       30\n",
      "                 ..\n",
      "Zapala            3\n",
      "Zonda             1\n",
      "Zárate            3\n",
      "Ñorquincó         3\n",
      "Ñorquín           5\n",
      "Name: Localidad, Length: 435, dtype: int64\n"
     ]
    }
   ],
   "source": [
    "# Verificar cuántos partidos pertenecen a cada provincia\n",
    "partidos_por_provincia = df_Acc_vel_loc_sinrangos.groupby('Provincia')['Partido'].nunique()\n",
    "print(\"Número de partidos por provincia:\")\n",
    "print(partidos_por_provincia)\n",
    "\n",
    "# Verificar cuántas localidades pertenecen a cada partido\n",
    "localidades_por_partido = df_Acc_vel_loc_sinrangos.groupby('Partido')['Localidad'].nunique()\n",
    "print(\"Número de localidades por partido:\")\n",
    "print(localidades_por_partido)\n"
   ]
  },
  {
   "cell_type": "code",
   "execution_count": 18,
   "metadata": {},
   "outputs": [
    {
     "name": "stdout",
     "output_type": "stream",
     "text": [
      "Valores nulos en 'Provincia':\n",
      "0\n",
      "Valores nulos en 'Partido':\n",
      "0\n",
      "Valores nulos en 'Localidad':\n",
      "1\n",
      "Valores únicos después de limpiar espacios y capitalización:\n",
      "Provincia: 24\n",
      "Partido: 432\n",
      "Localidad: 2775\n"
     ]
    }
   ],
   "source": [
    "# Revisar si hay valores vacíos o nulos\n",
    "print(\"Valores nulos en 'Provincia':\")\n",
    "print(df_Acc_vel_loc_sinrangos['Provincia'].isnull().sum())\n",
    "\n",
    "print(\"Valores nulos en 'Partido':\")\n",
    "print(df_Acc_vel_loc_sinrangos['Partido'].isnull().sum())\n",
    "\n",
    "print(\"Valores nulos en 'Localidad':\")\n",
    "print(df_Acc_vel_loc_sinrangos['Localidad'].isnull().sum())\n",
    "\n",
    "# Verificar si hay espacios adicionales o diferencias de capitalización\n",
    "df_Acc_vel_loc_sinrangos['Provincia'] = df_Acc_vel_loc_sinrangos['Provincia'].str.strip().str.title()\n",
    "df_Acc_vel_loc_sinrangos['Partido'] = df_Acc_vel_loc_sinrangos['Partido'].str.strip().str.title()\n",
    "df_Acc_vel_loc_sinrangos['Localidad'] = df_Acc_vel_loc_sinrangos['Localidad'].str.strip().str.title()\n",
    "\n",
    "# Recontar los valores únicos después de la limpieza\n",
    "print(\"Valores únicos después de limpiar espacios y capitalización:\")\n",
    "print(\"Provincia:\", df_Acc_vel_loc_sinrangos['Provincia'].nunique())\n",
    "print(\"Partido:\", df_Acc_vel_loc_sinrangos['Partido'].nunique())\n",
    "print(\"Localidad:\", df_Acc_vel_loc_sinrangos['Localidad'].nunique())\n"
   ]
  },
  {
   "cell_type": "code",
   "execution_count": 19,
   "metadata": {},
   "outputs": [
    {
     "name": "stdout",
     "output_type": "stream",
     "text": [
      "Valores nulos después de la corrección en 'Localidad':\n",
      "0\n"
     ]
    },
    {
     "name": "stderr",
     "output_type": "stream",
     "text": [
      "C:\\Users\\maron.LAPTOP-UEJMOSD4\\AppData\\Local\\Temp\\ipykernel_109864\\3748808845.py:2: FutureWarning: A value is trying to be set on a copy of a DataFrame or Series through chained assignment using an inplace method.\n",
      "The behavior will change in pandas 3.0. This inplace method will never work because the intermediate object on which we are setting values always behaves as a copy.\n",
      "\n",
      "For example, when doing 'df[col].method(value, inplace=True)', try using 'df.method({col: value}, inplace=True)' or df[col] = df[col].method(value) instead, to perform the operation inplace on the original object.\n",
      "\n",
      "\n",
      "  df_Acc_vel_loc_sinrangos['Localidad'].fillna('Desconocida', inplace=True)\n"
     ]
    }
   ],
   "source": [
    "# Reemplazar el valor nulo en 'Localidad' por 'Desconocida' o cualquier valor que decidas\n",
    "df_Acc_vel_loc_sinrangos['Localidad'].fillna('Desconocida', inplace=True)\n",
    "\n",
    "# Verificar si los valores nulos fueron reemplazados\n",
    "print(\"Valores nulos después de la corrección en 'Localidad':\")\n",
    "print(df_Acc_vel_loc_sinrangos['Localidad'].isnull().sum())\n"
   ]
  },
  {
   "cell_type": "code",
   "execution_count": 22,
   "metadata": {},
   "outputs": [
    {
     "name": "stdout",
     "output_type": "stream",
     "text": [
      "Número de partidos por provincia:\n",
      "Provincia\n",
      "Buenos Aires           136\n",
      "Caba                     2\n",
      "Catamarca               17\n",
      "Chaco                   26\n",
      "Chubut                  16\n",
      "Cordoba                 27\n",
      "Corrientes              26\n",
      "Entre Rios              18\n",
      "Formosa                 10\n",
      "Jujuy                   17\n",
      "La Pampa                23\n",
      "La Rioja                19\n",
      "Mendoza                 19\n",
      "Misiones                18\n",
      "Neuquen                 17\n",
      "Rio Negro               14\n",
      "Salta                   24\n",
      "San Juan                20\n",
      "San Luis                10\n",
      "Santa Cruz               7\n",
      "Santa Fe                20\n",
      "Santiago Del Estero     28\n",
      "Tierra Del Fuego         4\n",
      "Tucuman                 18\n",
      "Name: Partido, dtype: int64\n",
      "Número de localidades por partido:\n",
      "Partido\n",
      "12 De Octubre     4\n",
      "1º De Mayo        2\n",
      "2 De Abril        2\n",
      "25 De Mayo       30\n",
      "9 De Julio       30\n",
      "                 ..\n",
      "Zapala            3\n",
      "Zonda             1\n",
      "Zárate            3\n",
      "Ñorquincó         3\n",
      "Ñorquín           5\n",
      "Name: Localidad, Length: 432, dtype: int64\n"
     ]
    }
   ],
   "source": [
    "# Verificar cuántos partidos hay por provincia\n",
    "partidos_por_provincia = df_Acc_vel_loc_sinrangos.groupby('Provincia')['Partido'].nunique()\n",
    "print(\"Número de partidos por provincia:\")\n",
    "print(partidos_por_provincia)\n",
    "\n",
    "# Verificar cuántas localidades hay por partido\n",
    "localidades_por_partido = df_Acc_vel_loc_sinrangos.groupby('Partido')['Localidad'].nunique()\n",
    "print(\"Número de localidades por partido:\")\n",
    "print(localidades_por_partido)\n"
   ]
  },
  {
   "cell_type": "code",
   "execution_count": 21,
   "metadata": {},
   "outputs": [],
   "source": [
    "df_Acc_vel_loc_sinrangos['Localidad'] = df_Acc_vel_loc_sinrangos['Localidad'].fillna('Desconocida')\n"
   ]
  },
  {
   "cell_type": "code",
   "execution_count": 23,
   "metadata": {},
   "outputs": [
    {
     "name": "stdout",
     "output_type": "stream",
     "text": [
      "Información general del DataFrame:\n",
      "<class 'pandas.core.frame.DataFrame'>\n",
      "RangeIndex: 18864 entries, 0 to 18863\n",
      "Data columns (total 7 columns):\n",
      " #   Column            Non-Null Count  Dtype  \n",
      "---  ------            --------------  -----  \n",
      " 0   país              18864 non-null  object \n",
      " 1   Provincia         18864 non-null  object \n",
      " 2   Partido           18864 non-null  object \n",
      " 3   Localidad         18864 non-null  object \n",
      " 4   link Indec        18864 non-null  object \n",
      " 5   Velocidad (Mbps)  18864 non-null  float64\n",
      " 6   Accesos           18857 non-null  float64\n",
      "dtypes: float64(2), object(5)\n",
      "memory usage: 1.0+ MB\n"
     ]
    }
   ],
   "source": [
    "# Información general sobre el DataFrame\n",
    "print(\"Información general del DataFrame:\")\n",
    "df_Acc_vel_loc_sinrangos.info()"
   ]
  },
  {
   "cell_type": "code",
   "execution_count": 24,
   "metadata": {},
   "outputs": [
    {
     "name": "stdout",
     "output_type": "stream",
     "text": [
      "\n",
      "Estadísticas descriptivas del DataFrame:\n"
     ]
    },
    {
     "data": {
      "text/html": [
       "<div>\n",
       "<style scoped>\n",
       "    .dataframe tbody tr th:only-of-type {\n",
       "        vertical-align: middle;\n",
       "    }\n",
       "\n",
       "    .dataframe tbody tr th {\n",
       "        vertical-align: top;\n",
       "    }\n",
       "\n",
       "    .dataframe thead th {\n",
       "        text-align: right;\n",
       "    }\n",
       "</style>\n",
       "<table border=\"1\" class=\"dataframe\">\n",
       "  <thead>\n",
       "    <tr style=\"text-align: right;\">\n",
       "      <th></th>\n",
       "      <th>Velocidad (Mbps)</th>\n",
       "      <th>Accesos</th>\n",
       "    </tr>\n",
       "  </thead>\n",
       "  <tbody>\n",
       "    <tr>\n",
       "      <th>count</th>\n",
       "      <td>18864.000000</td>\n",
       "      <td>18857.000000</td>\n",
       "    </tr>\n",
       "    <tr>\n",
       "      <th>mean</th>\n",
       "      <td>66.866042</td>\n",
       "      <td>612.828499</td>\n",
       "    </tr>\n",
       "    <tr>\n",
       "      <th>std</th>\n",
       "      <td>178.987138</td>\n",
       "      <td>6283.359677</td>\n",
       "    </tr>\n",
       "    <tr>\n",
       "      <th>min</th>\n",
       "      <td>0.000000</td>\n",
       "      <td>-5582.000000</td>\n",
       "    </tr>\n",
       "    <tr>\n",
       "      <th>25%</th>\n",
       "      <td>3.000000</td>\n",
       "      <td>3.000000</td>\n",
       "    </tr>\n",
       "    <tr>\n",
       "      <th>50%</th>\n",
       "      <td>10.000000</td>\n",
       "      <td>26.000000</td>\n",
       "    </tr>\n",
       "    <tr>\n",
       "      <th>75%</th>\n",
       "      <td>30.000000</td>\n",
       "      <td>180.000000</td>\n",
       "    </tr>\n",
       "    <tr>\n",
       "      <th>max</th>\n",
       "      <td>1024.000000</td>\n",
       "      <td>576789.000000</td>\n",
       "    </tr>\n",
       "  </tbody>\n",
       "</table>\n",
       "</div>"
      ],
      "text/plain": [
       "       Velocidad (Mbps)        Accesos\n",
       "count      18864.000000   18857.000000\n",
       "mean          66.866042     612.828499\n",
       "std          178.987138    6283.359677\n",
       "min            0.000000   -5582.000000\n",
       "25%            3.000000       3.000000\n",
       "50%           10.000000      26.000000\n",
       "75%           30.000000     180.000000\n",
       "max         1024.000000  576789.000000"
      ]
     },
     "execution_count": 24,
     "metadata": {},
     "output_type": "execute_result"
    }
   ],
   "source": [
    "# Estadísticas descriptivas de las columnas numéricas\n",
    "print(\"\\nEstadísticas descriptivas del DataFrame:\")\n",
    "df_Acc_vel_loc_sinrangos.describe()"
   ]
  },
  {
   "cell_type": "code",
   "execution_count": null,
   "metadata": {},
   "outputs": [
    {
     "name": "stdout",
     "output_type": "stream",
     "text": [
      "Frecuencia de valores en 'Provincia':\n",
      "Provincia\n",
      "Buenos Aires           7172\n",
      "Cordoba                2211\n",
      "Santa Fe               1892\n",
      "Entre Rios              747\n",
      "Mendoza                 706\n",
      "Salta                   612\n",
      "Rio Negro               510\n",
      "Santiago Del Estero     500\n",
      "La Pampa                474\n",
      "Misiones                403\n",
      "Chaco                   398\n",
      "Tucuman                 377\n",
      "Neuquen                 342\n",
      "Corrientes              325\n",
      "San Juan                311\n",
      "Chubut                  304\n",
      "Formosa                 302\n",
      "Jujuy                   300\n",
      "San Luis                247\n",
      "La Rioja                239\n",
      "Catamarca               217\n",
      "Santa Cruz              154\n",
      "Tierra Del Fuego         66\n",
      "Caba                     55\n",
      "Name: count, dtype: int64\n",
      "\n",
      "Frecuencia de valores en 'Partido':\n",
      "Partido\n",
      "General San Martín     460\n",
      "Capital                373\n",
      "La Matanza             340\n",
      "San Justo              306\n",
      "Colón                  286\n",
      "                      ... \n",
      "Lihuel Calel             2\n",
      "San Luis Del Palmar      1\n",
      "Berón De Astrada         1\n",
      "Valle Grande             1\n",
      "Ancasti                  1\n",
      "Name: count, Length: 432, dtype: int64\n",
      "\n",
      "Frecuencia de valores en 'Localidad':\n",
      "Localidad\n",
      "Otros                              132\n",
      "Ciudad Autónoma De Buenos Aires     53\n",
      "San Pedro                           52\n",
      "Canning                             46\n",
      "San Justo                           44\n",
      "                                  ... \n",
      "Pampa Grande                         1\n",
      "Arroyo Venado                        1\n",
      "San Mayol                            1\n",
      "Colonia San Miguel Arcángel          1\n",
      "Esteban Agustín Gascón               1\n",
      "Name: count, Length: 2776, dtype: int64\n"
     ]
    }
   ],
   "source": [
    "# Contar valores únicos por cada columna categórica\n",
    "print(\"Frecuencia de valores en 'Provincia':\")\n",
    "print(df_Acc_vel_loc_sinrangos['Provincia'].value_counts())\n"
   ]
  },
  {
   "cell_type": "code",
   "execution_count": 27,
   "metadata": {},
   "outputs": [
    {
     "name": "stdout",
     "output_type": "stream",
     "text": [
      "\n",
      "Frecuencia de valores en 'Partido':\n",
      "Partido\n",
      "General San Martín     460\n",
      "Capital                373\n",
      "La Matanza             340\n",
      "San Justo              306\n",
      "Colón                  286\n",
      "                      ... \n",
      "Lihuel Calel             2\n",
      "San Luis Del Palmar      1\n",
      "Berón De Astrada         1\n",
      "Valle Grande             1\n",
      "Ancasti                  1\n",
      "Name: count, Length: 432, dtype: int64\n"
     ]
    }
   ],
   "source": [
    "print(\"\\nFrecuencia de valores en 'Partido':\")\n",
    "print(df_Acc_vel_loc_sinrangos['Partido'].value_counts())"
   ]
  },
  {
   "cell_type": "code",
   "execution_count": 28,
   "metadata": {},
   "outputs": [
    {
     "name": "stdout",
     "output_type": "stream",
     "text": [
      "\n",
      "Frecuencia de valores en 'Localidad':\n",
      "Localidad\n",
      "Otros                              132\n",
      "Ciudad Autónoma De Buenos Aires     53\n",
      "San Pedro                           52\n",
      "Canning                             46\n",
      "San Justo                           44\n",
      "                                  ... \n",
      "Pampa Grande                         1\n",
      "Arroyo Venado                        1\n",
      "San Mayol                            1\n",
      "Colonia San Miguel Arcángel          1\n",
      "Esteban Agustín Gascón               1\n",
      "Name: count, Length: 2776, dtype: int64\n"
     ]
    }
   ],
   "source": [
    "\n",
    "print(\"\\nFrecuencia de valores en 'Localidad':\")\n",
    "print(df_Acc_vel_loc_sinrangos['Localidad'].value_counts())"
   ]
  },
  {
   "cell_type": "code",
   "execution_count": 29,
   "metadata": {},
   "outputs": [
    {
     "name": "stdout",
     "output_type": "stream",
     "text": [
      "\n",
      "Estadísticas descriptivas de 'Provincia':\n",
      "count            18864\n",
      "unique              24\n",
      "top       Buenos Aires\n",
      "freq              7172\n",
      "Name: Provincia, dtype: object\n"
     ]
    }
   ],
   "source": [
    "# Estadísticas descriptivas para columnas categóricas\n",
    "print(\"\\nEstadísticas descriptivas de 'Provincia':\")\n",
    "print(df_Acc_vel_loc_sinrangos['Provincia'].describe())\n"
   ]
  },
  {
   "cell_type": "code",
   "execution_count": 30,
   "metadata": {},
   "outputs": [
    {
     "name": "stdout",
     "output_type": "stream",
     "text": [
      "\n",
      "Estadísticas descriptivas de 'Partido':\n",
      "count                  18864\n",
      "unique                   432\n",
      "top       General San Martín\n",
      "freq                     460\n",
      "Name: Partido, dtype: object\n"
     ]
    }
   ],
   "source": [
    "print(\"\\nEstadísticas descriptivas de 'Partido':\")\n",
    "print(df_Acc_vel_loc_sinrangos['Partido'].describe())"
   ]
  },
  {
   "cell_type": "code",
   "execution_count": 31,
   "metadata": {},
   "outputs": [
    {
     "name": "stdout",
     "output_type": "stream",
     "text": [
      "\n",
      "Estadísticas descriptivas de 'Localidad':\n",
      "count     18864\n",
      "unique     2776\n",
      "top       Otros\n",
      "freq        132\n",
      "Name: Localidad, dtype: object\n"
     ]
    }
   ],
   "source": [
    "\n",
    "print(\"\\nEstadísticas descriptivas de 'Localidad':\")\n",
    "print(df_Acc_vel_loc_sinrangos['Localidad'].describe())"
   ]
  },
  {
   "cell_type": "code",
   "execution_count": 36,
   "metadata": {},
   "outputs": [
    {
     "name": "stdout",
     "output_type": "stream",
     "text": [
      "\n",
      "Ranking por Localidad:\n",
      "             Localidad  Velocidad (Mbps)      Accesos  Ranking_Velocidad  \\\n",
      "0        11 De Octubre         25.000000   225.000000              679.5   \n",
      "1     11 De Septiembre        163.214286    92.785714              133.0   \n",
      "2        12 De Octubre          3.000000    11.000000             2395.0   \n",
      "3           1º De Mayo          6.666667    46.333333             1799.5   \n",
      "4          20 De Junio        149.216667    51.666667              183.0   \n",
      "...                ...               ...          ...                ...   \n",
      "2771            Zárate         99.031250  1299.791667              407.0   \n",
      "2772           Álvarez          6.500000   255.333333             1819.5   \n",
      "2773            Árraga          8.378000    21.750000             1567.5   \n",
      "2774         Ñanducita          0.000000    37.000000             2748.0   \n",
      "2775         Ñorquincó          1.750000     3.500000             2562.5   \n",
      "\n",
      "      Ranking_Accesos  \n",
      "0               582.5  \n",
      "1              1037.0  \n",
      "2              2139.0  \n",
      "3              1446.0  \n",
      "4              1387.0  \n",
      "...               ...  \n",
      "2771             81.0  \n",
      "2772            539.0  \n",
      "2773           1873.5  \n",
      "2774           1593.5  \n",
      "2775           2433.5  \n",
      "\n",
      "[2776 rows x 5 columns]\n"
     ]
    }
   ],
   "source": [
    "import pandas as pd\n",
    "\n",
    "# 1. Agrupar por 'Provincia', 'Partido' y 'Localidad' y calcular los promedios de 'Velocidad (Mbps)' y 'Accesos'\n",
    "df_grouped_provincia = df_Acc_vel_loc_sinrangos.groupby('Provincia').agg({'Velocidad (Mbps)': 'mean', 'Accesos': 'mean'}).reset_index()\n",
    "df_grouped_partido = df_Acc_vel_loc_sinrangos.groupby('Partido').agg({'Velocidad (Mbps)': 'mean', 'Accesos': 'mean'}).reset_index()\n",
    "df_grouped_localidad = df_Acc_vel_loc_sinrangos.groupby('Localidad').agg({'Velocidad (Mbps)': 'mean', 'Accesos': 'mean'}).reset_index()\n",
    "\n",
    "# 2. Ordenar los resultados por 'Velocidad (Mbps)' y 'Accesos' para generar el ranking\n",
    "df_grouped_provincia['Ranking_Velocidad'] = df_grouped_provincia['Velocidad (Mbps)'].rank(ascending=False)\n",
    "df_grouped_provincia['Ranking_Accesos'] = df_grouped_provincia['Accesos'].rank(ascending=False)\n",
    "\n",
    "df_grouped_partido['Ranking_Velocidad'] = df_grouped_partido['Velocidad (Mbps)'].rank(ascending=False)\n",
    "df_grouped_partido['Ranking_Accesos'] = df_grouped_partido['Accesos'].rank(ascending=False)\n",
    "\n",
    "df_grouped_localidad['Ranking_Velocidad'] = df_grouped_localidad['Velocidad (Mbps)'].rank(ascending=False)\n",
    "df_grouped_localidad['Ranking_Accesos'] = df_grouped_localidad['Accesos'].rank(ascending=False)\n",
    "\n",
    "\n",
    "\n",
    "print(\"\\nRanking por Localidad:\")\n",
    "print(df_grouped_localidad[['Localidad', 'Velocidad (Mbps)', 'Accesos', 'Ranking_Velocidad', 'Ranking_Accesos']])\n"
   ]
  },
  {
   "cell_type": "code",
   "execution_count": 37,
   "metadata": {},
   "outputs": [
    {
     "name": "stdout",
     "output_type": "stream",
     "text": [
      "\n",
      "Ranking por Partido:\n",
      "           Partido  Velocidad (Mbps)      Accesos  Ranking_Velocidad  \\\n",
      "0    12 De Octubre         10.066667    62.000000              288.0   \n",
      "1       1º De Mayo          8.611111    39.444444              315.0   \n",
      "2       2 De Abril         13.357143   111.571429              240.0   \n",
      "3       25 De Mayo         23.289426   118.573770              184.0   \n",
      "4       9 De Julio         29.562810   186.853448              170.0   \n",
      "..             ...               ...          ...                ...   \n",
      "427         Zapala          9.989652   300.956522              293.0   \n",
      "428          Zonda         10.285714    50.142857              285.5   \n",
      "429         Zárate         79.443548  1038.000000               84.0   \n",
      "430      Ñorquincó          1.875000     2.500000              412.0   \n",
      "431        Ñorquín          3.973556    34.111111              396.0   \n",
      "\n",
      "     Ranking_Accesos  \n",
      "0              315.5  \n",
      "1              353.0  \n",
      "2              259.0  \n",
      "3              250.0  \n",
      "4              194.0  \n",
      "..               ...  \n",
      "427            135.0  \n",
      "428            338.0  \n",
      "429             27.0  \n",
      "430            413.0  \n",
      "431            366.0  \n",
      "\n",
      "[432 rows x 5 columns]\n"
     ]
    }
   ],
   "source": [
    "print(\"\\nRanking por Partido:\")\n",
    "print(df_grouped_partido[['Partido', 'Velocidad (Mbps)', 'Accesos', 'Ranking_Velocidad', 'Ranking_Accesos']])\n"
   ]
  },
  {
   "cell_type": "code",
   "execution_count": 38,
   "metadata": {},
   "outputs": [
    {
     "name": "stdout",
     "output_type": "stream",
     "text": [
      "Ranking por Provincia:\n",
      "              Provincia  Velocidad (Mbps)       Accesos  Ranking_Velocidad  \\\n",
      "0          Buenos Aires        110.079257    695.674847                3.0   \n",
      "1                  Caba        156.373055  26610.890909                2.0   \n",
      "2             Catamarca         46.487097    345.963134                7.0   \n",
      "3                 Chaco         33.826693    369.577889               14.0   \n",
      "4                Chubut         24.765961    573.101974               21.0   \n",
      "5               Cordoba         42.279112    491.078245                8.0   \n",
      "6            Corrientes         28.174043    482.947531               18.0   \n",
      "7            Entre Rios         33.932182    394.518767               13.0   \n",
      "8               Formosa         13.814079    208.443709               24.0   \n",
      "9                 Jujuy         26.930880    398.946667               19.0   \n",
      "10             La Pampa         19.407586    260.048523               22.0   \n",
      "11             La Rioja         30.836251    366.029289               15.0   \n",
      "12              Mendoza         35.997286    427.270538               10.0   \n",
      "13             Misiones         25.234551    512.540943               20.0   \n",
      "14              Neuquen         35.096673    478.192982               12.0   \n",
      "15            Rio Negro         36.351620    337.335294                9.0   \n",
      "16                Salta         35.149441    330.609195               11.0   \n",
      "17             San Juan         30.639260    340.803859               16.0   \n",
      "18             San Luis        164.009158    638.093117                1.0   \n",
      "19           Santa Cruz         18.174987    541.954545               23.0   \n",
      "20             Santa Fe         47.280757    492.317821                6.0   \n",
      "21  Santiago Del Estero         29.078004    251.130261               17.0   \n",
      "22     Tierra Del Fuego         66.860394    930.439394                5.0   \n",
      "23              Tucuman         70.309920    707.994695                4.0   \n",
      "\n",
      "    Ranking_Accesos  \n",
      "0               4.0  \n",
      "1               1.0  \n",
      "2              18.0  \n",
      "3              16.0  \n",
      "4               6.0  \n",
      "5              10.0  \n",
      "6              11.0  \n",
      "7              15.0  \n",
      "8              24.0  \n",
      "9              14.0  \n",
      "10             22.0  \n",
      "11             17.0  \n",
      "12             13.0  \n",
      "13              8.0  \n",
      "14             12.0  \n",
      "15             20.0  \n",
      "16             21.0  \n",
      "17             19.0  \n",
      "18              5.0  \n",
      "19              7.0  \n",
      "20              9.0  \n",
      "21             23.0  \n",
      "22              2.0  \n",
      "23              3.0  \n"
     ]
    }
   ],
   "source": [
    "# 3. Imprimir los rankings\n",
    "print(\"Ranking por Provincia:\")\n",
    "print(df_grouped_provincia[['Provincia', 'Velocidad (Mbps)', 'Accesos', 'Ranking_Velocidad', 'Ranking_Accesos']])"
   ]
  },
  {
   "cell_type": "code",
   "execution_count": 40,
   "metadata": {},
   "outputs": [
    {
     "data": {
      "image/png": "[encoded data removed]",
      "text/plain": [
       "<Figure size 1000x500 with 1 Axes>"
      ]
     },
     "metadata": {},
     "output_type": "display_data"
    },
    {
     "data": {
      "image/png": "[encoded data removed]",
      "text/plain": [
       "<Figure size 640x480 with 1 Axes>"
      ]
     },
     "metadata": {},
     "output_type": "display_data"
    }
   ],
   "source": [
    "import matplotlib.pyplot as plt\n",
    "import seaborn as sns\n",
    "\n",
    "# Histogramas de velocidad y accesos\n",
    "plt.figure(figsize=(10, 5))\n",
    "sns.histplot(df_Acc_vel_loc_sinrangos['Velocidad (Mbps)'], kde=True, bins=20)\n",
    "plt.title('Distribución de Velocidad (Mbps)')\n",
    "plt.show()\n",
    "\n",
    "sns.histplot(df_Acc_vel_loc_sinrangos['Accesos'], kde=True, bins=20)\n",
    "plt.title('Distribución de Accesos')\n",
    "plt.show()\n"
   ]
  },
  {
   "cell_type": "code",
   "execution_count": 41,
   "metadata": {},
   "outputs": [
    {
     "data": {
      "image/png": "[encoded data removed]",
      "text/plain": [
       "<Figure size 640x480 with 2 Axes>"
      ]
     },
     "metadata": {},
     "output_type": "display_data"
    }
   ],
   "source": [
    "# Correlación entre variables continuas\n",
    "corr = df_Acc_vel_loc_sinrangos[['Velocidad (Mbps)', 'Accesos']].corr()\n",
    "sns.heatmap(corr, annot=True, cmap='coolwarm', center=0)\n",
    "plt.title('Mapa de calor de correlación')\n",
    "plt.show()\n"
   ]
  },
  {
   "cell_type": "code",
   "execution_count": 42,
   "metadata": {},
   "outputs": [
    {
     "name": "stdout",
     "output_type": "stream",
     "text": [
      "Valores atípicos con Z-score (valor absoluto > 3):\n",
      "  país Provincia Partido Localidad link Indec  Velocidad (Mbps)  Accesos  \\\n",
      "0  NaN       NaN     NaN       NaN        NaN               NaN      NaN   \n",
      "1  NaN       NaN     NaN       NaN        NaN               NaN      NaN   \n",
      "2  NaN       NaN     NaN       NaN        NaN               NaN      NaN   \n",
      "3  NaN       NaN     NaN       NaN        NaN               NaN      NaN   \n",
      "4  NaN       NaN     NaN       NaN        NaN               NaN      NaN   \n",
      "\n",
      "   Provincia_encoded  Partido_encoded  Localidad_encoded  \n",
      "0                NaN              NaN                NaN  \n",
      "1                NaN              NaN                NaN  \n",
      "2                NaN              NaN                NaN  \n",
      "3                NaN              NaN                NaN  \n",
      "4                NaN              NaN                NaN  \n"
     ]
    }
   ],
   "source": [
    "from scipy import stats\n",
    "\n",
    "# Calculando Z-scores\n",
    "z_scores = stats.zscore(df_Acc_vel_loc_sinrangos[['Velocidad (Mbps)', 'Accesos']])\n",
    "print(\"Valores atípicos con Z-score (valor absoluto > 3):\")\n",
    "print(df_Acc_vel_loc_sinrangos[(abs(z_scores) > 3)].head())\n"
   ]
  },
  {
   "cell_type": "code",
   "execution_count": 44,
   "metadata": {},
   "outputs": [
    {
     "name": "stdout",
     "output_type": "stream",
     "text": [
      "Provincia\n",
      "Buenos Aires           7172\n",
      "Cordoba                2211\n",
      "Santa Fe               1892\n",
      "Entre Rios              747\n",
      "Mendoza                 706\n",
      "Salta                   612\n",
      "Rio Negro               510\n",
      "Santiago Del Estero     500\n",
      "La Pampa                474\n",
      "Misiones                403\n",
      "Chaco                   398\n",
      "Tucuman                 377\n",
      "Neuquen                 342\n",
      "Corrientes              325\n",
      "San Juan                311\n",
      "Chubut                  304\n",
      "Formosa                 302\n",
      "Jujuy                   300\n",
      "San Luis                247\n",
      "La Rioja                239\n",
      "Catamarca               217\n",
      "Santa Cruz              154\n",
      "Tierra Del Fuego         66\n",
      "Caba                     55\n",
      "Name: count, dtype: int64\n"
     ]
    }
   ],
   "source": [
    "# Conteo de categorías\n",
    "print(df_Acc_vel_loc_sinrangos['Provincia'].value_counts())\n"
   ]
  },
  {
   "cell_type": "code",
   "execution_count": 45,
   "metadata": {},
   "outputs": [
    {
     "name": "stdout",
     "output_type": "stream",
     "text": [
      "Partido\n",
      "General San Martín     460\n",
      "Capital                373\n",
      "La Matanza             340\n",
      "San Justo              306\n",
      "Colón                  286\n",
      "                      ... \n",
      "Lihuel Calel             2\n",
      "San Luis Del Palmar      1\n",
      "Berón De Astrada         1\n",
      "Valle Grande             1\n",
      "Ancasti                  1\n",
      "Name: count, Length: 432, dtype: int64\n"
     ]
    }
   ],
   "source": [
    "print(df_Acc_vel_loc_sinrangos['Partido'].value_counts())"
   ]
  },
  {
   "cell_type": "code",
   "execution_count": 46,
   "metadata": {},
   "outputs": [
    {
     "name": "stdout",
     "output_type": "stream",
     "text": [
      "Localidad\n",
      "Otros                              132\n",
      "Ciudad Autónoma De Buenos Aires     53\n",
      "San Pedro                           52\n",
      "Canning                             46\n",
      "San Justo                           44\n",
      "                                  ... \n",
      "Pampa Grande                         1\n",
      "Arroyo Venado                        1\n",
      "San Mayol                            1\n",
      "Colonia San Miguel Arcángel          1\n",
      "Esteban Agustín Gascón               1\n",
      "Name: count, Length: 2776, dtype: int64\n"
     ]
    }
   ],
   "source": [
    "print(df_Acc_vel_loc_sinrangos['Localidad'].value_counts())"
   ]
  },
  {
   "cell_type": "code",
   "execution_count": 50,
   "metadata": {},
   "outputs": [
    {
     "name": "stdout",
     "output_type": "stream",
     "text": [
      "Columna Accesos tiene valores negativos.\n"
     ]
    },
    {
     "data": {
      "image/png": "[encoded data removed]",
      "text/plain": [
       "<Figure size 2000x1000 with 1 Axes>"
      ]
     },
     "metadata": {},
     "output_type": "display_data"
    }
   ],
   "source": [
    "import matplotlib.pyplot as plt\n",
    "import seaborn as sns\n",
    "\n",
    "# Revisar columnas con valores negativos\n",
    "for columna in df_Acc_vel_loc_sinrangos.columns:\n",
    "    if df_Acc_vel_loc_sinrangos[columna].dtype != 'object' and (df_Acc_vel_loc_sinrangos[columna] < 0).any():\n",
    "        print(f\"Columna {columna} tiene valores negativos.\")\n",
    "\n",
    "# Visualizar valores atípicos en las principales columnas\n",
    "plt.figure(figsize=(20, 10))\n",
    "sns.boxplot(data=df_Acc_vel_loc_sinrangos.select_dtypes(include='number'))\n",
    "plt.xticks(rotation=90)\n",
    "plt.title(\"Distribución de datos numéricos con valores atípicos\")\n",
    "plt.show()"
   ]
  },
  {
   "cell_type": "code",
   "execution_count": 51,
   "metadata": {},
   "outputs": [
    {
     "name": "stdout",
     "output_type": "stream",
     "text": [
      "\n",
      "Conteo de valores nulos por columna:\n",
      "país                 0\n",
      "Provincia            0\n",
      "Partido              0\n",
      "Localidad            0\n",
      "link Indec           0\n",
      "Velocidad (Mbps)     0\n",
      "Accesos              7\n",
      "Provincia_encoded    0\n",
      "Partido_encoded      0\n",
      "Localidad_encoded    0\n",
      "dtype: int64\n"
     ]
    }
   ],
   "source": [
    "# Información adicional de valores nulos\n",
    "print(\"\\nConteo de valores nulos por columna:\")\n",
    "print(df_Acc_vel_loc_sinrangos.isnull().sum())"
   ]
  },
  {
   "cell_type": "code",
   "execution_count": 52,
   "metadata": {},
   "outputs": [
    {
     "data": {
      "image/png": "[encoded data removed]",
      "text/plain": [
       "<Figure size 2000x1000 with 1 Axes>"
      ]
     },
     "metadata": {},
     "output_type": "display_data"
    }
   ],
   "source": [
    "import pandas as pd\n",
    "import matplotlib.pyplot as plt\n",
    "import seaborn as sns\n",
    "# Visualizar valores atípicos con un gráfico de caja y bigote\n",
    "plt.figure(figsize=(20, 10))\n",
    "sns.boxplot(data=df_Acc_vel_loc_sinrangos.select_dtypes(include='number'))\n",
    "plt.xticks(rotation=90)\n",
    "plt.title(\"Distribución de datos numéricos con valores atípicos\")\n",
    "plt.show()"
   ]
  },
  {
   "cell_type": "code",
   "execution_count": 56,
   "metadata": {},
   "outputs": [
    {
     "name": "stdout",
     "output_type": "stream",
     "text": [
      "Columnas con valores negativos y sus conteos:\n",
      "{}\n"
     ]
    }
   ],
   "source": [
    "# Identificar columnas con valores negativos y contar cuántos hay\n",
    "columnas_negativas = {}\n",
    "for columna in df_Acc_vel_loc_sinrangos.columns:\n",
    "    if df_Acc_vel_loc_sinrangos[columna].dtype != 'object' and (df_Acc_vel_loc_sinrangos[columna] < 0).any():\n",
    "        columnas_negativas[columna] = (df_Acc_vel_loc_sinrangos[columna] < 0).sum()\n",
    "\n",
    "print(\"Columnas con valores negativos y sus conteos:\")\n",
    "print(columnas_negativas)\n",
    "\n",
    "# Visualizar las distribuciones de las columnas con valores negativos\n",
    "import matplotlib.pyplot as plt\n",
    "\n",
    "for columna, conteo in columnas_negativas.items():\n",
    "    plt.figure(figsize=(10, 5))\n",
    "    plt.hist(df_Acc_vel_loc_sinrangos[columna], bins=50, color='red', alpha=0.7)\n",
    "    plt.title(f\"Distribución de {columna} (con valores negativos)\")\n",
    "    plt.xlabel('Valor')\n",
    "    plt.ylabel('Frecuencia')\n",
    "    plt.show()"
   ]
  },
  {
   "cell_type": "code",
   "execution_count": 55,
   "metadata": {},
   "outputs": [
    {
     "name": "stdout",
     "output_type": "stream",
     "text": [
      "\n",
      "Revisión tras reemplazar valores negativos:\n",
      "Accesos: 0 valores negativos restantes\n"
     ]
    }
   ],
   "source": [
    "import numpy as np\n",
    "\n",
    "# Reemplazar valores negativos por NaN\n",
    "for columna in columnas_negativas.keys():\n",
    "    df_Acc_vel_loc_sinrangos[columna] = df_Acc_vel_loc_sinrangos[columna].apply(lambda x: np.nan if x < 0 else x)\n",
    "\n",
    "# Confirmar que se han reemplazado los valores negativos\n",
    "print(\"\\nRevisión tras reemplazar valores negativos:\")\n",
    "for columna in columnas_negativas.keys():\n",
    "    print(f\"{columna}: {(df_Acc_vel_loc_sinrangos[columna] < 0).sum()} valores negativos restantes\")\n"
   ]
  },
  {
   "cell_type": "code",
   "execution_count": 57,
   "metadata": {},
   "outputs": [],
   "source": [
    "# Guardar las modificaciones en el mismo archivo CSV\n",
    "df_Acc_vel_loc_sinrangos.to_csv('C:/Users/maron.LAPTOP-UEJMOSD4/Desktop/PI_2/DATA_LIMPIO/Acc_vel_loc_sinrangos.csv', index=False)"
   ]
  },
  {
   "cell_type": "code",
   "execution_count": null,
   "metadata": {},
   "outputs": [],
   "source": []
  },
  {
   "cell_type": "code",
   "execution_count": 48,
   "metadata": {},
   "outputs": [
    {
     "name": "stdout",
     "output_type": "stream",
     "text": [
      "Mostrando las primeras 5 filas de C:/Users/maron.LAPTOP-UEJMOSD4/Desktop/PI_2/DATA_LIMPIO/Accesos por rangos.csv:\n",
      "    Año  Trimestre        Provincia  HASTA 512 kbps  + 512 Kbps - 1 Mbps  \\\n",
      "0  2024          2     Buenos Aires         25287.0              23034.0   \n",
      "1  2024          2  Capital Federal           518.0               4122.0   \n",
      "2  2024          2        Catamarca            72.0                164.0   \n",
      "3  2024          2            Chaco           236.0                349.0   \n",
      "4  2024          2           Chubut           125.0               1139.0   \n",
      "\n",
      "   + 1 Mbps - 6 Mbps  + 6 Mbps - 10 Mbps  + 10 Mbps - 20 Mbps  \\\n",
      "0           222627.0            221660.0             244528.0   \n",
      "1            24539.0             40296.0              33158.0   \n",
      "2             2660.0              3093.0               3799.0   \n",
      "3            14594.0              8336.0               6208.0   \n",
      "4            43699.0             31971.0              22696.0   \n",
      "\n",
      "   + 20 Mbps - 30 Mbps  + 30 Mbps     OTROS      Total  \n",
      "0             106302.0  4020395.0  125547.0  4989380.0  \n",
      "1               5633.0  1355333.0       0.0  1463599.0  \n",
      "2               1279.0    63954.0      53.0    75074.0  \n",
      "3               6454.0   107707.0    3208.0   147092.0  \n",
      "4              19827.0    38212.0   16554.0   174223.0  \n"
     ]
    }
   ],
   "source": [
    "import pandas as pd\n",
    "\n",
    "# Reemplaza 'nombre_archivo.csv' con el nombre de tu archivo CSV\n",
    "archivo_csv = 'C:/Users/maron.LAPTOP-UEJMOSD4/Desktop/PI_2/DATA_LIMPIO/Accesos por rangos.csv'\n",
    "\n",
    "# Carga el archivo CSV en un DataFrame\n",
    "df_Accesos_por_rangos = pd.read_csv(archivo_csv)\n",
    "\n",
    "# Muestra las primeras 5 filas del DataFrame\n",
    "print(f\"Mostrando las primeras 5 filas de {archivo_csv}:\")\n",
    "print(df_Accesos_por_rangos.head())"
   ]
  },
  {
   "cell_type": "code",
   "execution_count": 49,
   "metadata": {},
   "outputs": [
    {
     "name": "stdout",
     "output_type": "stream",
     "text": [
      "<class 'pandas.core.frame.DataFrame'>\n",
      "RangeIndex: 1000 entries, 0 to 999\n",
      "Data columns (total 12 columns):\n",
      " #   Column               Non-Null Count  Dtype  \n",
      "---  ------               --------------  -----  \n",
      " 0   Año                  1000 non-null   int64  \n",
      " 1   Trimestre            1000 non-null   int64  \n",
      " 2   Provincia            1000 non-null   object \n",
      " 3   HASTA 512 kbps       1000 non-null   float64\n",
      " 4   + 512 Kbps - 1 Mbps  1000 non-null   float64\n",
      " 5   + 1 Mbps - 6 Mbps    1000 non-null   float64\n",
      " 6   + 6 Mbps - 10 Mbps   1000 non-null   float64\n",
      " 7   + 10 Mbps - 20 Mbps  1000 non-null   float64\n",
      " 8   + 20 Mbps - 30 Mbps  1000 non-null   float64\n",
      " 9   + 30 Mbps            1000 non-null   float64\n",
      " 10  OTROS                994 non-null    float64\n",
      " 11  Total                1000 non-null   float64\n",
      "dtypes: float64(9), int64(2), object(1)\n",
      "memory usage: 93.9+ KB\n",
      "None\n"
     ]
    }
   ],
   "source": [
    "# Mostrar información básica del DataFrame\n",
    "print(df_Accesos_por_rangos.info())"
   ]
  },
  {
   "cell_type": "code",
   "execution_count": null,
   "metadata": {},
   "outputs": [],
   "source": [
    "# Convertir la columna 'Año' a tipo string\n",
    "df_Accesos_por_rangos['Año'] = df_Accesos_por_rangos['Año'].astype(str)\n"
   ]
  },
  {
   "cell_type": "code",
   "execution_count": null,
   "metadata": {},
   "outputs": [],
   "source": []
  },
  {
   "cell_type": "code",
   "execution_count": null,
   "metadata": {},
   "outputs": [],
   "source": []
  },
  {
   "cell_type": "code",
   "execution_count": null,
   "metadata": {},
   "outputs": [],
   "source": []
  },
  {
   "cell_type": "code",
   "execution_count": null,
   "metadata": {},
   "outputs": [],
   "source": []
  },
  {
   "cell_type": "code",
   "execution_count": null,
   "metadata": {},
   "outputs": [],
   "source": []
  },
  {
   "cell_type": "code",
   "execution_count": null,
   "metadata": {},
   "outputs": [],
   "source": []
  },
  {
   "cell_type": "code",
   "execution_count": null,
   "metadata": {},
   "outputs": [],
   "source": []
  },
  {
   "cell_type": "code",
   "execution_count": null,
   "metadata": {},
   "outputs": [],
   "source": []
  },
  {
   "cell_type": "code",
   "execution_count": null,
   "metadata": {},
   "outputs": [],
   "source": []
  },
  {
   "cell_type": "code",
   "execution_count": null,
   "metadata": {},
   "outputs": [],
   "source": []
  },
  {
   "cell_type": "code",
   "execution_count": null,
   "metadata": {},
   "outputs": [],
   "source": []
  },
  {
   "cell_type": "code",
   "execution_count": null,
   "metadata": {},
   "outputs": [],
   "source": [
    "import pandas as pd\n",
    "\n",
    "# Reemplaza 'nombre_archivo.csv' con el nombre de tu archivo CSV\n",
    "archivo_csv = 'C:/Users/maron.LAPTOP-UEJMOSD4/Desktop/PI_2/DATA_LIMPIO/nombre_archivo.csv'\n",
    "\n",
    "# Carga el archivo CSV en un DataFrame\n",
    "df = pd.read_csv(archivo_csv)\n",
    "\n",
    "# Muestra las primeras 5 filas del DataFrame\n",
    "print(f\"Mostrando las primeras 5 filas de {archivo_csv}:\")\n",
    "print(df.head())\n"
   ]
  },
  {
   "cell_type": "code",
   "execution_count": null,
   "metadata": {},
   "outputs": [
    {
     "name": "stdout",
     "output_type": "stream",
     "text": [
      "      Provincia     Partido   Localidad    Tecnologia Link Indec  Accesos\n",
      "0  BUENOS AIRES  25 de Mayo  25 de Mayo          ADSL    6854100    755.0\n",
      "1  BUENOS AIRES  25 de Mayo  25 de Mayo    CABLEMODEM    6854100   4600.0\n",
      "2  BUENOS AIRES  25 de Mayo  25 de Mayo  FIBRA OPTICA    6854100      2.0\n",
      "3  BUENOS AIRES  25 de Mayo  25 de Mayo     SATELITAL    6854100    742.0\n",
      "4  BUENOS AIRES  25 de Mayo  25 de Mayo      WIRELESS    6854100    727.0\n"
     ]
    }
   ],
   "source": [
    "import pandas as pd\n",
    "\n",
    "# Cargar la hoja de cálculo en un DataFrame\n",
    "arc_excel = 'C:/Users/maron.LAPTOP-UEJMOSD4/Desktop/PI_2/Internet.xlsx'\n",
    "Acceso_loc_df = pd.read_excel(arc_excel, sheet_name='Accesos_tecnologia_localidad')  # Puedes omitir `sheet_name` para cargar la primera hoja\n",
    "\n",
    "# Mostrar las primeras filas del DataFrame\n",
    "print(Acceso_loc_df.head())\n"
   ]
  },
  {
   "cell_type": "code",
   "execution_count": null,
   "metadata": {},
   "outputs": [],
   "source": []
  },
  {
   "cell_type": "code",
   "execution_count": 5,
   "metadata": {},
   "outputs": [
    {
     "name": "stdout",
     "output_type": "stream",
     "text": [
      "Valores únicos en 'Provincia':\n",
      "['BUENOS AIRES' 'CABA' 'CATAMARCA' 'CHACO' 'CHUBUT' 'CORDOBA' 'CORRIENTES'\n",
      " 'ENTRE RIOS' 'FORMOSA' 'JUJUY' 'LA PAMPA' 'LA RIOJA' 'MENDOZA' 'MISIONES'\n",
      " 'NEUQUEN' 'RIO NEGRO' 'SALTA' 'SAN JUAN' 'SAN LUIS' 'SANTA CRUZ'\n",
      " 'SANTA FE' 'SANTIAGO DEL ESTERO' 'TIERRA DEL FUEGO' 'TUCUMAN']\n"
     ]
    }
   ],
   "source": [
    "print(\"Valores únicos en 'Provincia':\")\n",
    "print(Acceso_loc_df['Provincia'].unique())\n",
    "\n",
    "\n",
    "\n",
    "\n",
    "\n"
   ]
  },
  {
   "cell_type": "code",
   "execution_count": 9,
   "metadata": {},
   "outputs": [
    {
     "name": "stdout",
     "output_type": "stream",
     "text": [
      "\n",
      "Valores únicos en 'Partido':\n",
      "['25 DE MAYO' '9 DE JULIO' 'ADOLFO ALSINA' 'ADOLFO GONZALES CHAVES'\n",
      " 'ALBERTI' 'ALMIRANTE BROWN' 'AMBA' 'ARRECIFES' 'AVELLANEDA' 'AYACUCHO'\n",
      " 'AZUL' 'BAHÍA BLANCA' 'BALCARCE' 'BARADERO' 'BENITO JUÁREZ' 'BERAZATEGUI'\n",
      " 'BERISSO' 'BOLÍVAR' 'BRAGADO' 'BRANDSEN' 'CAMPANA' 'CAÑUELAS'\n",
      " 'CAPITÁN SARMIENTO' 'CARLOS CASARES' 'CARLOS TEJEDOR' 'CARMEN DE ARECO'\n",
      " 'CASTELLI' 'CHACABUCO' 'CHASCOMÚS' 'CHIVILCOY' 'COLÓN'\n",
      " 'CORONEL DE MARINA L. ROSALES' 'CORONEL DORREGO' 'CORONEL PRINGLES'\n",
      " 'CORONEL SUÁREZ' 'DAIREAUX' 'DOLORES' 'ENSENADA' 'ESCOBAR'\n",
      " 'ESTEBAN ECHEVERRÍA' 'EXALTACIÓN DE LA CRUZ' 'EZEIZA' 'FLORENCIO VARELA'\n",
      " 'FLORENTINO AMEGHINO' 'GENERAL ALVARADO' 'GENERAL ARENALES'\n",
      " 'GENERAL BELGRANO' 'GENERAL GUIDO' 'GENERAL JUAN MADARIAGA'\n",
      " 'GENERAL LA MADRID' 'GENERAL LAS HERAS' 'GENERAL LAVALLE' 'GENERAL PAZ'\n",
      " 'GENERAL PINTO' 'GENERAL PUEYRREDÓN' 'GENERAL RODRÍGUEZ'\n",
      " 'GENERAL SAN MARTÍN' 'GENERAL VIAMONTE' 'GENERAL VILLEGAS' 'GUAMINÍ'\n",
      " 'HIPÓLITO YRIGOYEN' 'HURLINGHAM' 'ITUZAINGÓ' 'JOSÉ C. PAZ' 'JUNÍN'\n",
      " 'LA COSTA' 'LA MATANZA' 'LA PLATA' 'LANÚS' 'LAPRIDA' 'LAS FLORES'\n",
      " 'LEANDRO N. ALEM' 'LINCOLN' 'LOBERÍA' 'LOBOS' 'LOMAS DE ZAMORA' 'LUJÁN'\n",
      " 'MAGDALENA' 'MAIPÚ' 'MALVINAS ARGENTINAS' 'MAR CHIQUITA' 'MARCOS PAZ'\n",
      " 'MERCEDES' 'MERLO' 'MONTE' 'MONTE HERMOSO' 'MORENO' 'MORÓN' 'NAVARRO'\n",
      " 'NECOCHEA' 'OLAVARRÍA' 'OTROS' 'PATAGONES' 'PEHUAJÓ' 'PELLEGRINI'\n",
      " 'PERGAMINO' 'PILA' 'PILAR' 'PINAMAR' 'PRESIDENTE PERÓN' 'PUÁN'\n",
      " 'PUNTA INDIO' 'QUILMES' 'RAMALLO' 'RAUCH' 'RIVADAVIA' 'ROJAS'\n",
      " 'ROQUE PÉREZ' 'SAAVEDRA' 'SALADILLO' 'SALLIQUELÓ' 'SALTO'\n",
      " 'SAN ANDRÉS DE GILES' 'SAN ANTONIO DE ARECO' 'SAN CAYETANO'\n",
      " 'SAN FERNANDO' 'SAN ISIDRO' 'SAN MIGUEL' 'SAN NICOLÁS' 'SAN PEDRO'\n",
      " 'SAN VICENTE' 'SUIPACHA' 'TANDIL' 'TAPALQUÉ' 'TIGRE' 'TORDILLO'\n",
      " 'TORNQUIST' 'TRENQUE LAUQUEN' 'TRES ARROYOS' 'TRES DE FEBRERO'\n",
      " 'TRES LOMAS' 'VICENTE LÓPEZ' 'VILLA GESELL' 'VILLARINO' 'ZÁRATE'\n",
      " 'CIUDAD AUTÓNOMA DE BUENOS AIRES' 'AMBATO' 'ANCASTI' 'ANDALGALÁ'\n",
      " 'ANTOFAGASTA DE LA SIERRA' 'BELÉN' 'CAPAYÁN' 'CAPITAL' 'EL ALTO'\n",
      " 'FRAY MAMERTO ESQUIÚ' 'LA PAZ' 'PACLÍN' 'POMÁN' 'SANTA MARÍA'\n",
      " 'SANTA ROSA' 'TINOGASTA' 'VALLE VIEJO' '12 DE OCTUBRE' '1º DE MAYO'\n",
      " '2 DE ABRIL' 'BERMEJO' 'COMANDANTE FERNÁNDEZ'\n",
      " 'FRAY JUSTO SANTA MARÍA DE ORO' 'GENERAL DONOVAN' 'GENERAL GÜEMES'\n",
      " 'INDEPENDENCIA' 'LIBERTAD' 'LIBERTADOR GENERAL SAN MARTÍN'\n",
      " 'MAYOR LUIS J. FONTANA' 'O HIGGINS' 'PRESIDENCIA DE LA PLAZA' 'QUITILIPI'\n",
      " 'SAN LORENZO' 'SARGENTO CABRAL' 'TAPENAGÁ' 'BIEDMA' 'CUSHAMEN'\n",
      " 'ESCALANTE' 'FUTALEUFÚ' 'GAIMAN' 'GASTRE' 'LANGUIÑEO' 'MÁRTIRES'\n",
      " 'PASO DE INDIOS' 'RAWSON' 'RÍO SENGUER' 'SARMIENTO' 'TEHUELCHES' 'TELSEN'\n",
      " 'CALAMUCHITA' 'CRUZ DEL EJE' 'GENERAL ROCA' 'ISCHILÍN' 'JUÁREZ CELMAN'\n",
      " 'MARCOS JUÁREZ' 'MINAS' 'POCHO' 'PRESIDENTE ROQUE SÁENZ PEÑA' 'PUNILLA'\n",
      " 'RÍO CUARTO' 'RÍO PRIMERO' 'RÍO SECO' 'RÍO SEGUNDO' 'SAN ALBERTO'\n",
      " 'SAN JAVIER' 'SAN JUSTO' 'SOBREMONTE' 'TERCERO ARRIBA' 'TOTORAL'\n",
      " 'TULUMBA' 'UNIÓN' 'BELLA VISTA' 'BERÓN DE ASTRADA' 'CONCEPCIÓN'\n",
      " 'CURUZÚ CUATIÁ' 'EMPEDRADO' 'ESQUINA' 'GENERAL ALVEAR' 'GOYA' 'ITATÍ'\n",
      " 'LAVALLE' 'MBURUCUYÁ' 'MONTE CASEROS' 'PASO DE LOS LIBRES' 'SALADAS'\n",
      " 'SAN COSME' 'SAN LUIS DEL PALMAR' 'SAN MARTÍN' 'SAN ROQUE' 'SANTO TOMÉ'\n",
      " 'SAUCE' 'CONCORDIA' 'DIAMANTE' 'FEDERACIÓN' 'FEDERAL' 'FELICIANO'\n",
      " 'GUALEGUAY' 'GUALEGUAYCHÚ' 'ISLAS DEL IBICUY' 'NOGOYÁ' 'PARANÁ'\n",
      " 'SAN SALVADOR' 'TALA' 'URUGUAY' 'VICTORIA' 'VILLAGUAY' 'FORMOSA' 'LAISHI'\n",
      " 'MATACOS' 'PATIÑO' 'PILAGÁS' 'PILCOMAYO' 'PIRANÉ' 'RAMÓN LISTA'\n",
      " 'COCHINOCA' 'DOCTOR MANUEL BELGRANO' 'EL CARMEN' 'HUMAHUACA' 'LEDESMA'\n",
      " 'PALPALÁ' 'RINCONADA' 'SAN ANTONIO' 'SANTA BARBARA' 'SANTA CATALINA'\n",
      " 'SUSQUES' 'TILCARA' 'TUMBAYA' 'VALLE GRANDE' 'YAVI' 'ATREUCÓ'\n",
      " 'CALEU CALEU' 'CATRILÓ' 'CHALILEO' 'CHAPALEUFÚ' 'CHICAL CO' 'CONHELO'\n",
      " 'CURACÓ' 'GUATRACHÉ' 'HUCAL' 'LIHUEL CALEL' 'LIMAY MAHUIDA' 'LOVENTUÉ'\n",
      " 'MARACÓ' 'PUELÉN' 'QUEMÚ QUEMÚ' 'RANCUL' 'REALICÓ' 'TOAY' 'TRENEL'\n",
      " 'UTRACÁN' 'ARAUCO' 'CASTRO BARROS' 'CHAMICAL' 'CHILECITO'\n",
      " 'CORONEL FELIPE VARELA' 'FAMATINA' 'GENERAL ANGEL V. PEÑALOZA'\n",
      " 'GENERAL JUAN F. QUIROGA' 'GENERAL LAMADRID' 'GENERAL OCAMPO'\n",
      " 'ROSARIO VERA PEÑALOZA' 'SAN BLAS DE LOS SAUCES' 'SANAGASTA' 'VINCHINA'\n",
      " 'GODOY CRUZ' 'GUAYMALLÉN' 'LAS HERAS' 'LUJÁN DE CUYO' 'MALARGÜE'\n",
      " 'SAN CARLOS' 'SAN RAFAEL' 'TUNUYÁN' 'TUPUNGATO' 'APÓSTOLES' 'CAINGUÁS'\n",
      " 'CANDELARIA' 'ELDORADO' 'GENERAL MANUEL BELGRANO' 'GUARANÍ' 'IGUAZÚ'\n",
      " 'LIBERTADOR GRL. SAN MARTÍN' 'MONTECARLO' 'OBERÁ' 'SAN IGNACIO' 'ALUMINÉ'\n",
      " 'AÑELO' 'CATAN LILL' 'CHOS MALAL' 'COLLÓN CURÁ' 'CONFLUENCIA' 'HUILICHES'\n",
      " 'LÁCAR' 'LONCOPUÉ' 'LOS LAGOS' 'ÑORQUÍN' 'PEHUENCHES' 'PICÚN LEUFÚ'\n",
      " 'PICUNCHES' 'ZAPALA' 'BARILOCHE' 'CONESA' 'EL CUY' 'ÑORQUINCÓ'\n",
      " 'PICHI MAHUIDA' 'PILCANIYEU' 'VALCHETA' 'ANTA' 'CACHI' 'CAFAYATE'\n",
      " 'CERRILLOS' 'CHICOANA' 'GRL. JOSÉ DE SAN MARTÍN' 'GUACHIPAS' 'IRUYA'\n",
      " 'LA CALDERA' 'LA CANDELARIA' 'LA POMA' 'LA VIÑA' 'LOS ANDES' 'METÁN'\n",
      " 'MOLINOS' 'ORÁN' 'ROSARIO DE LA FRONTERA' 'ROSARIO DE LERMA'\n",
      " 'SANTA VICTORIA' 'ALBARDÓN' 'ANGACO' 'CALINGASTA' 'CAUCETE' 'CHIMBAS'\n",
      " 'IGLESIA' 'JÁCHAL' 'POCITO' 'SANTA LUCÍA' 'ULLUM' 'VALLE FÉRTIL' 'ZONDA'\n",
      " 'BELGRANO' 'GENERAL PEDERNERA' 'GOBERNADOR DUPUY' 'LA CAPITAL'\n",
      " 'CORPEN AIKE' 'DESEADO' 'GÜER AIKE' 'LAGO ARGENTINO' 'LAGO BUENOS AIRES'\n",
      " 'MAGALLANES' 'RÍO CHICO' 'CASEROS' 'CASTELLANOS' 'CONSTITUCIÓN' 'GARAY'\n",
      " 'GENERAL LÓPEZ' 'GENERAL OBLIGADO' 'IRIONDO' 'LAS COLONIAS' 'ROSARIO'\n",
      " 'SAN CRISTÓBAL' 'SAN JERÓNIMO' 'VERA' 'AGUIRRE' 'ALBERDI' 'ATAMISQUI'\n",
      " 'BANDA' 'CHOYA' 'COPO' 'FIGUEROA' 'GENERAL TABOADA' 'GUASAYÁN' 'JIMÉNEZ'\n",
      " 'JUAN F. IBARRA' 'LORETO' 'MITRE' 'OJO DE AGUA' 'QUEBRACHOS' 'RÍO HONDO'\n",
      " 'ROBLES' 'SALAVINA' 'SILÍPICA' 'ANTARTIDA ARGENTINA' 'RÍO GRANDE'\n",
      " 'USHUAIA' 'BURRUYACÚ' 'CHICLIGASTA' 'CRUZ ALTA' 'FAMAILLÁ' 'GRANEROS'\n",
      " 'JUAN BAUTISTA ALBERDI' 'LA COCHA' 'LEALES' 'LULES' 'MONTEROS' 'SIMOCA'\n",
      " 'TAFÍ DEL VALLE' 'TAFÍ VIEJO' 'TRANCAS' 'YERBA BUENA']\n"
     ]
    }
   ],
   "source": [
    "print(\"\\nValores únicos en 'Partido':\")\n",
    "print(Acceso_loc_df['Partido'].unique())\n"
   ]
  },
  {
   "cell_type": "code",
   "execution_count": 8,
   "metadata": {},
   "outputs": [],
   "source": [
    "# Normalizar los nombres: eliminar espacios y convertir a mayúsculas\n",
    "Acceso_loc_df['Partido'] = Acceso_loc_df['Partido'].str.strip().str.upper()\n"
   ]
  },
  {
   "cell_type": "code",
   "execution_count": 10,
   "metadata": {},
   "outputs": [
    {
     "name": "stdout",
     "output_type": "stream",
     "text": [
      "Valores únicos normalizados en 'Partido':\n",
      "Partido\n",
      "SAN JUSTO                   136\n",
      "CAPITAL                     124\n",
      "GENERAL SAN MARTÍN          118\n",
      "COLÓN                       100\n",
      "GENERAL ROCA                 94\n",
      "                           ... \n",
      "ANTOFAGASTA DE LA SIERRA      1\n",
      "SAN LUIS DEL PALMAR           1\n",
      "ANCASTI                       1\n",
      "BERÓN DE ASTRADA              1\n",
      "ZONDA                         1\n",
      "Name: count, Length: 432, dtype: int64\n"
     ]
    }
   ],
   "source": [
    "# Listar los valores únicos de nuevo después de la normalización\n",
    "print(\"Valores únicos normalizados en 'Partido':\")\n",
    "print(Acceso_loc_df['Partido'].value_counts())\n"
   ]
  },
  {
   "cell_type": "code",
   "execution_count": 11,
   "metadata": {},
   "outputs": [
    {
     "name": "stderr",
     "output_type": "stream",
     "text": [
      "C:\\Users\\maron.LAPTOP-UEJMOSD4\\AppData\\Local\\Temp\\ipykernel_231500\\1090364338.py:2: FutureWarning: A value is trying to be set on a copy of a DataFrame or Series through chained assignment using an inplace method.\n",
      "The behavior will change in pandas 3.0. This inplace method will never work because the intermediate object on which we are setting values always behaves as a copy.\n",
      "\n",
      "For example, when doing 'df[col].method(value, inplace=True)', try using 'df.method({col: value}, inplace=True)' or df[col] = df[col].method(value) instead, to perform the operation inplace on the original object.\n",
      "\n",
      "\n",
      "  Acceso_loc_df['Partido'].replace({\n"
     ]
    }
   ],
   "source": [
    "# Reemplazar variaciones específicas\n",
    "Acceso_loc_df['Partido'].replace({\n",
    "    'GRAL. PAZ': 'GENERAL PAZ',\n",
    "    'L. DE ZAMORA': 'LOMAS DE ZAMORA',\n",
    "    # Agrega más correcciones específicas aquí\n",
    "}, inplace=True)\n"
   ]
  },
  {
   "cell_type": "code",
   "execution_count": 12,
   "metadata": {},
   "outputs": [
    {
     "ename": "NameError",
     "evalue": "name 'fuzz' is not defined",
     "output_type": "error",
     "traceback": [
      "\u001b[1;31m---------------------------------------------------------------------------\u001b[0m",
      "\u001b[1;31mNameError\u001b[0m                                 Traceback (most recent call last)",
      "Cell \u001b[1;32mIn[12], line 5\u001b[0m\n\u001b[0;32m      3\u001b[0m \u001b[38;5;66;03m# Elegir un partido de referencia y encontrar coincidencias similares\u001b[39;00m\n\u001b[0;32m      4\u001b[0m partido_referencia \u001b[38;5;241m=\u001b[39m \u001b[38;5;124m'\u001b[39m\u001b[38;5;124mGENERAL SAN MARTÍN\u001b[39m\u001b[38;5;124m'\u001b[39m\n\u001b[1;32m----> 5\u001b[0m coincidencias \u001b[38;5;241m=\u001b[39m process\u001b[38;5;241m.\u001b[39mextract(partido_referencia, Acceso_loc_df[\u001b[38;5;124m'\u001b[39m\u001b[38;5;124mPartido\u001b[39m\u001b[38;5;124m'\u001b[39m]\u001b[38;5;241m.\u001b[39munique(), limit\u001b[38;5;241m=\u001b[39m\u001b[38;5;241m10\u001b[39m, scorer\u001b[38;5;241m=\u001b[39m\u001b[43mfuzz\u001b[49m\u001b[38;5;241m.\u001b[39mratio)\n\u001b[0;32m      7\u001b[0m \u001b[38;5;66;03m# Mostrar partidos similares al de referencia\u001b[39;00m\n\u001b[0;32m      8\u001b[0m \u001b[38;5;28mprint\u001b[39m(coincidencias)\n",
      "\u001b[1;31mNameError\u001b[0m: name 'fuzz' is not defined"
     ]
    }
   ],
   "source": [
    "from thefuzz import process\n",
    "\n",
    "# Elegir un partido de referencia y encontrar coincidencias similares\n",
    "partido_referencia = 'GENERAL SAN MARTÍN'\n",
    "coincidencias = process.extract(partido_referencia, Acceso_loc_df['Partido'].unique(), limit=10, scorer=fuzz.ratio)\n",
    "\n",
    "# Mostrar partidos similares al de referencia\n",
    "print(coincidencias)\n"
   ]
  },
  {
   "cell_type": "code",
   "execution_count": 13,
   "metadata": {},
   "outputs": [],
   "source": [
    "Acceso_loc_df['Partido'].replace({\n",
    "    'GRAL. SAN MARTÍN': 'GENERAL SAN MARTÍN',\n",
    "    # Otras correcciones según los resultados de `fuzzywuzzy`\n",
    "}, inplace=True)\n"
   ]
  },
  {
   "cell_type": "code",
   "execution_count": 14,
   "metadata": {},
   "outputs": [
    {
     "name": "stdout",
     "output_type": "stream",
     "text": [
      "\n",
      "Valores únicos finales en 'Partido':\n",
      "['25 DE MAYO' '9 DE JULIO' 'ADOLFO ALSINA' 'ADOLFO GONZALES CHAVES'\n",
      " 'ALBERTI' 'ALMIRANTE BROWN' 'AMBA' 'ARRECIFES' 'AVELLANEDA' 'AYACUCHO'\n",
      " 'AZUL' 'BAHÍA BLANCA' 'BALCARCE' 'BARADERO' 'BENITO JUÁREZ' 'BERAZATEGUI'\n",
      " 'BERISSO' 'BOLÍVAR' 'BRAGADO' 'BRANDSEN' 'CAMPANA' 'CAÑUELAS'\n",
      " 'CAPITÁN SARMIENTO' 'CARLOS CASARES' 'CARLOS TEJEDOR' 'CARMEN DE ARECO'\n",
      " 'CASTELLI' 'CHACABUCO' 'CHASCOMÚS' 'CHIVILCOY' 'COLÓN'\n",
      " 'CORONEL DE MARINA L. ROSALES' 'CORONEL DORREGO' 'CORONEL PRINGLES'\n",
      " 'CORONEL SUÁREZ' 'DAIREAUX' 'DOLORES' 'ENSENADA' 'ESCOBAR'\n",
      " 'ESTEBAN ECHEVERRÍA' 'EXALTACIÓN DE LA CRUZ' 'EZEIZA' 'FLORENCIO VARELA'\n",
      " 'FLORENTINO AMEGHINO' 'GENERAL ALVARADO' 'GENERAL ARENALES'\n",
      " 'GENERAL BELGRANO' 'GENERAL GUIDO' 'GENERAL JUAN MADARIAGA'\n",
      " 'GENERAL LA MADRID' 'GENERAL LAS HERAS' 'GENERAL LAVALLE' 'GENERAL PAZ'\n",
      " 'GENERAL PINTO' 'GENERAL PUEYRREDÓN' 'GENERAL RODRÍGUEZ'\n",
      " 'GENERAL SAN MARTÍN' 'GENERAL VIAMONTE' 'GENERAL VILLEGAS' 'GUAMINÍ'\n",
      " 'HIPÓLITO YRIGOYEN' 'HURLINGHAM' 'ITUZAINGÓ' 'JOSÉ C. PAZ' 'JUNÍN'\n",
      " 'LA COSTA' 'LA MATANZA' 'LA PLATA' 'LANÚS' 'LAPRIDA' 'LAS FLORES'\n",
      " 'LEANDRO N. ALEM' 'LINCOLN' 'LOBERÍA' 'LOBOS' 'LOMAS DE ZAMORA' 'LUJÁN'\n",
      " 'MAGDALENA' 'MAIPÚ' 'MALVINAS ARGENTINAS' 'MAR CHIQUITA' 'MARCOS PAZ'\n",
      " 'MERCEDES' 'MERLO' 'MONTE' 'MONTE HERMOSO' 'MORENO' 'MORÓN' 'NAVARRO'\n",
      " 'NECOCHEA' 'OLAVARRÍA' 'OTROS' 'PATAGONES' 'PEHUAJÓ' 'PELLEGRINI'\n",
      " 'PERGAMINO' 'PILA' 'PILAR' 'PINAMAR' 'PRESIDENTE PERÓN' 'PUÁN'\n",
      " 'PUNTA INDIO' 'QUILMES' 'RAMALLO' 'RAUCH' 'RIVADAVIA' 'ROJAS'\n",
      " 'ROQUE PÉREZ' 'SAAVEDRA' 'SALADILLO' 'SALLIQUELÓ' 'SALTO'\n",
      " 'SAN ANDRÉS DE GILES' 'SAN ANTONIO DE ARECO' 'SAN CAYETANO'\n",
      " 'SAN FERNANDO' 'SAN ISIDRO' 'SAN MIGUEL' 'SAN NICOLÁS' 'SAN PEDRO'\n",
      " 'SAN VICENTE' 'SUIPACHA' 'TANDIL' 'TAPALQUÉ' 'TIGRE' 'TORDILLO'\n",
      " 'TORNQUIST' 'TRENQUE LAUQUEN' 'TRES ARROYOS' 'TRES DE FEBRERO'\n",
      " 'TRES LOMAS' 'VICENTE LÓPEZ' 'VILLA GESELL' 'VILLARINO' 'ZÁRATE'\n",
      " 'CIUDAD AUTÓNOMA DE BUENOS AIRES' 'AMBATO' 'ANCASTI' 'ANDALGALÁ'\n",
      " 'ANTOFAGASTA DE LA SIERRA' 'BELÉN' 'CAPAYÁN' 'CAPITAL' 'EL ALTO'\n",
      " 'FRAY MAMERTO ESQUIÚ' 'LA PAZ' 'PACLÍN' 'POMÁN' 'SANTA MARÍA'\n",
      " 'SANTA ROSA' 'TINOGASTA' 'VALLE VIEJO' '12 DE OCTUBRE' '1º DE MAYO'\n",
      " '2 DE ABRIL' 'BERMEJO' 'COMANDANTE FERNÁNDEZ'\n",
      " 'FRAY JUSTO SANTA MARÍA DE ORO' 'GENERAL DONOVAN' 'GENERAL GÜEMES'\n",
      " 'INDEPENDENCIA' 'LIBERTAD' 'LIBERTADOR GENERAL SAN MARTÍN'\n",
      " 'MAYOR LUIS J. FONTANA' 'O HIGGINS' 'PRESIDENCIA DE LA PLAZA' 'QUITILIPI'\n",
      " 'SAN LORENZO' 'SARGENTO CABRAL' 'TAPENAGÁ' 'BIEDMA' 'CUSHAMEN'\n",
      " 'ESCALANTE' 'FUTALEUFÚ' 'GAIMAN' 'GASTRE' 'LANGUIÑEO' 'MÁRTIRES'\n",
      " 'PASO DE INDIOS' 'RAWSON' 'RÍO SENGUER' 'SARMIENTO' 'TEHUELCHES' 'TELSEN'\n",
      " 'CALAMUCHITA' 'CRUZ DEL EJE' 'GENERAL ROCA' 'ISCHILÍN' 'JUÁREZ CELMAN'\n",
      " 'MARCOS JUÁREZ' 'MINAS' 'POCHO' 'PRESIDENTE ROQUE SÁENZ PEÑA' 'PUNILLA'\n",
      " 'RÍO CUARTO' 'RÍO PRIMERO' 'RÍO SECO' 'RÍO SEGUNDO' 'SAN ALBERTO'\n",
      " 'SAN JAVIER' 'SAN JUSTO' 'SOBREMONTE' 'TERCERO ARRIBA' 'TOTORAL'\n",
      " 'TULUMBA' 'UNIÓN' 'BELLA VISTA' 'BERÓN DE ASTRADA' 'CONCEPCIÓN'\n",
      " 'CURUZÚ CUATIÁ' 'EMPEDRADO' 'ESQUINA' 'GENERAL ALVEAR' 'GOYA' 'ITATÍ'\n",
      " 'LAVALLE' 'MBURUCUYÁ' 'MONTE CASEROS' 'PASO DE LOS LIBRES' 'SALADAS'\n",
      " 'SAN COSME' 'SAN LUIS DEL PALMAR' 'SAN MARTÍN' 'SAN ROQUE' 'SANTO TOMÉ'\n",
      " 'SAUCE' 'CONCORDIA' 'DIAMANTE' 'FEDERACIÓN' 'FEDERAL' 'FELICIANO'\n",
      " 'GUALEGUAY' 'GUALEGUAYCHÚ' 'ISLAS DEL IBICUY' 'NOGOYÁ' 'PARANÁ'\n",
      " 'SAN SALVADOR' 'TALA' 'URUGUAY' 'VICTORIA' 'VILLAGUAY' 'FORMOSA' 'LAISHI'\n",
      " 'MATACOS' 'PATIÑO' 'PILAGÁS' 'PILCOMAYO' 'PIRANÉ' 'RAMÓN LISTA'\n",
      " 'COCHINOCA' 'DOCTOR MANUEL BELGRANO' 'EL CARMEN' 'HUMAHUACA' 'LEDESMA'\n",
      " 'PALPALÁ' 'RINCONADA' 'SAN ANTONIO' 'SANTA BARBARA' 'SANTA CATALINA'\n",
      " 'SUSQUES' 'TILCARA' 'TUMBAYA' 'VALLE GRANDE' 'YAVI' 'ATREUCÓ'\n",
      " 'CALEU CALEU' 'CATRILÓ' 'CHALILEO' 'CHAPALEUFÚ' 'CHICAL CO' 'CONHELO'\n",
      " 'CURACÓ' 'GUATRACHÉ' 'HUCAL' 'LIHUEL CALEL' 'LIMAY MAHUIDA' 'LOVENTUÉ'\n",
      " 'MARACÓ' 'PUELÉN' 'QUEMÚ QUEMÚ' 'RANCUL' 'REALICÓ' 'TOAY' 'TRENEL'\n",
      " 'UTRACÁN' 'ARAUCO' 'CASTRO BARROS' 'CHAMICAL' 'CHILECITO'\n",
      " 'CORONEL FELIPE VARELA' 'FAMATINA' 'GENERAL ANGEL V. PEÑALOZA'\n",
      " 'GENERAL JUAN F. QUIROGA' 'GENERAL LAMADRID' 'GENERAL OCAMPO'\n",
      " 'ROSARIO VERA PEÑALOZA' 'SAN BLAS DE LOS SAUCES' 'SANAGASTA' 'VINCHINA'\n",
      " 'GODOY CRUZ' 'GUAYMALLÉN' 'LAS HERAS' 'LUJÁN DE CUYO' 'MALARGÜE'\n",
      " 'SAN CARLOS' 'SAN RAFAEL' 'TUNUYÁN' 'TUPUNGATO' 'APÓSTOLES' 'CAINGUÁS'\n",
      " 'CANDELARIA' 'ELDORADO' 'GENERAL MANUEL BELGRANO' 'GUARANÍ' 'IGUAZÚ'\n",
      " 'LIBERTADOR GRL. SAN MARTÍN' 'MONTECARLO' 'OBERÁ' 'SAN IGNACIO' 'ALUMINÉ'\n",
      " 'AÑELO' 'CATAN LILL' 'CHOS MALAL' 'COLLÓN CURÁ' 'CONFLUENCIA' 'HUILICHES'\n",
      " 'LÁCAR' 'LONCOPUÉ' 'LOS LAGOS' 'ÑORQUÍN' 'PEHUENCHES' 'PICÚN LEUFÚ'\n",
      " 'PICUNCHES' 'ZAPALA' 'BARILOCHE' 'CONESA' 'EL CUY' 'ÑORQUINCÓ'\n",
      " 'PICHI MAHUIDA' 'PILCANIYEU' 'VALCHETA' 'ANTA' 'CACHI' 'CAFAYATE'\n",
      " 'CERRILLOS' 'CHICOANA' 'GRL. JOSÉ DE SAN MARTÍN' 'GUACHIPAS' 'IRUYA'\n",
      " 'LA CALDERA' 'LA CANDELARIA' 'LA POMA' 'LA VIÑA' 'LOS ANDES' 'METÁN'\n",
      " 'MOLINOS' 'ORÁN' 'ROSARIO DE LA FRONTERA' 'ROSARIO DE LERMA'\n",
      " 'SANTA VICTORIA' 'ALBARDÓN' 'ANGACO' 'CALINGASTA' 'CAUCETE' 'CHIMBAS'\n",
      " 'IGLESIA' 'JÁCHAL' 'POCITO' 'SANTA LUCÍA' 'ULLUM' 'VALLE FÉRTIL' 'ZONDA'\n",
      " 'BELGRANO' 'GENERAL PEDERNERA' 'GOBERNADOR DUPUY' 'LA CAPITAL'\n",
      " 'CORPEN AIKE' 'DESEADO' 'GÜER AIKE' 'LAGO ARGENTINO' 'LAGO BUENOS AIRES'\n",
      " 'MAGALLANES' 'RÍO CHICO' 'CASEROS' 'CASTELLANOS' 'CONSTITUCIÓN' 'GARAY'\n",
      " 'GENERAL LÓPEZ' 'GENERAL OBLIGADO' 'IRIONDO' 'LAS COLONIAS' 'ROSARIO'\n",
      " 'SAN CRISTÓBAL' 'SAN JERÓNIMO' 'VERA' 'AGUIRRE' 'ALBERDI' 'ATAMISQUI'\n",
      " 'BANDA' 'CHOYA' 'COPO' 'FIGUEROA' 'GENERAL TABOADA' 'GUASAYÁN' 'JIMÉNEZ'\n",
      " 'JUAN F. IBARRA' 'LORETO' 'MITRE' 'OJO DE AGUA' 'QUEBRACHOS' 'RÍO HONDO'\n",
      " 'ROBLES' 'SALAVINA' 'SILÍPICA' 'ANTARTIDA ARGENTINA' 'RÍO GRANDE'\n",
      " 'USHUAIA' 'BURRUYACÚ' 'CHICLIGASTA' 'CRUZ ALTA' 'FAMAILLÁ' 'GRANEROS'\n",
      " 'JUAN BAUTISTA ALBERDI' 'LA COCHA' 'LEALES' 'LULES' 'MONTEROS' 'SIMOCA'\n",
      " 'TAFÍ DEL VALLE' 'TAFÍ VIEJO' 'TRANCAS' 'YERBA BUENA']\n"
     ]
    }
   ],
   "source": [
    "print(\"\\nValores únicos finales en 'Partido':\")\n",
    "print(Acceso_loc_df['Partido'].unique())\n"
   ]
  },
  {
   "cell_type": "code",
   "execution_count": 15,
   "metadata": {},
   "outputs": [
    {
     "name": "stdout",
     "output_type": "stream",
     "text": [
      "\n",
      "Valores únicos en 'Localidad':\n",
      "['25 de Mayo' 'Del Valle' 'Ernestina' ... 'Villa  de Trancas'\n",
      " 'Villa Carmela' 'Yerba Buena - Marcos Paz']\n"
     ]
    }
   ],
   "source": [
    "\n",
    "print(\"\\nValores únicos en 'Localidad':\")\n",
    "print(Acceso_loc_df['Localidad'].unique())"
   ]
  },
  {
   "cell_type": "code",
   "execution_count": 16,
   "metadata": {},
   "outputs": [],
   "source": [
    "# Normalizar los nombres: eliminar espacios y convertir a mayúsculas\n",
    "Acceso_loc_df['Localidad'] = Acceso_loc_df['Localidad'].str.strip().str.upper()\n"
   ]
  },
  {
   "cell_type": "code",
   "execution_count": 19,
   "metadata": {},
   "outputs": [],
   "source": [
    "from thefuzz import process, fuzz\n"
   ]
  },
  {
   "cell_type": "code",
   "execution_count": 20,
   "metadata": {},
   "outputs": [
    {
     "name": "stdout",
     "output_type": "stream",
     "text": [
      "[('PIEDRABUENA', 73), ('YERBA BUENA - MARCOS PAZ', 63), ('GOBERNADOR BENEGAS', 55), ('VILLA BERNA', 55), ('MARÍA JUANA', 55), (\"GENERAL O'BRIEN\", 54), ('GENERAL CABRERA', 54), ('PIEDRAS BLANCAS', 54), ('LA BANDA', 53), ('LA BATEA', 53)]\n"
     ]
    }
   ],
   "source": [
    "from thefuzz import process, fuzz\n",
    "\n",
    "# Elegir una localidad de referencia y encontrar coincidencias similares\n",
    "localidad_referencia = 'YERBA BUENA'\n",
    "coincidencias = process.extract(localidad_referencia, Acceso_loc_df['Localidad'].unique(), limit=10, scorer=fuzz.ratio)\n",
    "\n",
    "# Mostrar localidades similares a la de referencia\n",
    "print(coincidencias)\n"
   ]
  },
  {
   "cell_type": "code",
   "execution_count": null,
   "metadata": {},
   "outputs": [],
   "source": []
  },
  {
   "cell_type": "code",
   "execution_count": 18,
   "metadata": {},
   "outputs": [
    {
     "name": "stdout",
     "output_type": "stream",
     "text": [
      "\n",
      "Valores únicos finales en 'Localidad':\n",
      "['25 DE MAYO' 'DEL VALLE' 'ERNESTINA' ... 'VILLA  DE TRANCAS'\n",
      " 'VILLA CARMELA' 'YERBA BUENA - MARCOS PAZ']\n"
     ]
    }
   ],
   "source": [
    "print(\"\\nValores únicos finales en 'Localidad':\")\n",
    "print(Acceso_loc_df['Localidad'].unique())\n"
   ]
  },
  {
   "cell_type": "code",
   "execution_count": 21,
   "metadata": {},
   "outputs": [
    {
     "name": "stderr",
     "output_type": "stream",
     "text": [
      "C:\\Users\\maron.LAPTOP-UEJMOSD4\\AppData\\Local\\Temp\\ipykernel_231500\\4175830331.py:2: FutureWarning: A value is trying to be set on a copy of a DataFrame or Series through chained assignment using an inplace method.\n",
      "The behavior will change in pandas 3.0. This inplace method will never work because the intermediate object on which we are setting values always behaves as a copy.\n",
      "\n",
      "For example, when doing 'df[col].method(value, inplace=True)', try using 'df.method({col: value}, inplace=True)' or df[col] = df[col].method(value) instead, to perform the operation inplace on the original object.\n",
      "\n",
      "\n",
      "  Acceso_loc_df['Localidad'].replace({\n"
     ]
    }
   ],
   "source": [
    "# Reemplazar variaciones específicas de localidades\n",
    "Acceso_loc_df['Localidad'].replace({\n",
    "    'YERBA BUENA - MARCOS PAZ': 'YERBA BUENA',\n",
    "    # Agrega más correcciones aquí si encuentras otras variantes\n",
    "}, inplace=True)\n"
   ]
  }
 ],
 "metadata": {
  "kernelspec": {
   "display_name": "Python 3",
   "language": "python",
   "name": "python3"
  },
  "language_info": {
   "codemirror_mode": {
    "name": "ipython",
    "version": 3
   },
   "file_extension": ".py",
   "mimetype": "text/x-python",
   "name": "python",
   "nbconvert_exporter": "python",
   "pygments_lexer": "ipython3",
   "version": "3.13.0"
  }
 },
 "nbformat": 4,
 "nbformat_minor": 2
}

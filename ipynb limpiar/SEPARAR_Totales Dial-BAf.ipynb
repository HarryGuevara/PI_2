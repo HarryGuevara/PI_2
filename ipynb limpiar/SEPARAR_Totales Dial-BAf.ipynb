{
 "cells": [
  {
   "cell_type": "code",
   "execution_count": 1,
   "metadata": {},
   "outputs": [],
   "source": [
    "import pandas as pd\n",
    "import matplotlib.pyplot as plt\n",
    "import seaborn as sns\n",
    "import numpy as np"
   ]
  },
  {
   "cell_type": "code",
   "execution_count": 8,
   "metadata": {},
   "outputs": [
    {
     "name": "stdout",
     "output_type": "stream",
     "text": [
      "Mostrando las primeras 5 filas de C:/Users/maron.LAPTOP-UEJMOSD4/Desktop/PI_2/DATA_LIMPIO/Acc_vel_loc_sinrangos.csv:\n",
      "      Provincia     Partido   Localidad link Indec  Velocidad (Mbps)  Accesos\n",
      "0  BUENOS AIRES  25 de Mayo  25 de Mayo    6854100              0.00      1.0\n",
      "1  BUENOS AIRES  25 de Mayo  25 de Mayo    6854100              0.50      2.0\n",
      "2  BUENOS AIRES  25 de Mayo  25 de Mayo    6854100              0.75     19.0\n",
      "3  BUENOS AIRES  25 de Mayo  25 de Mayo    6854100              3.00     85.0\n",
      "4  BUENOS AIRES  25 de Mayo  25 de Mayo    6854100              3.50    145.0\n"
     ]
    }
   ],
   "source": [
    "import pandas as pd\n",
    "\n",
    "# Reemplaza 'nombre_archivo.csv' con el nombre de tu archivo CSV\n",
    "archivo_csv = 'C:/Users/maron.LAPTOP-UEJMOSD4/Desktop/PI_2/DATA_LIMPIO/Acc_vel_loc_sinrangos.csv'\n",
    "\n",
    "# Carga el archivo CSV en un DataFrame\n",
    "df_Acc_vel_loc_sinrangos = pd.read_csv(archivo_csv)\n",
    "\n",
    "# Muestra las primeras 5 filas del DataFrame\n",
    "print(f\"Mostrando las primeras 5 filas de {archivo_csv}:\")\n",
    "print(df_Acc_vel_loc_sinrangos.head())"
   ]
  },
  {
   "cell_type": "code",
   "execution_count": null,
   "metadata": {},
   "outputs": [],
   "source": [
    "\n",
    "\n"
   ]
  }
 ],
 "metadata": {
  "kernelspec": {
   "display_name": "Python 3",
   "language": "python",
   "name": "python3"
  },
  "language_info": {
   "codemirror_mode": {
    "name": "ipython",
    "version": 3
   },
   "file_extension": ".py",
   "mimetype": "text/x-python",
   "name": "python",
   "nbconvert_exporter": "python",
   "pygments_lexer": "ipython3",
   "version": "3.12.7"
  }
 },
 "nbformat": 4,
 "nbformat_minor": 2
}

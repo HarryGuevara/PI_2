{
 "cells": [
  {
   "cell_type": "code",
   "execution_count": 3,
   "metadata": {},
   "outputs": [
    {
     "name": "stdout",
     "output_type": "stream",
     "text": [
      "Hojas de cálculo en el archivo: ['Acc_vel_loc_sinrangos', 'Velocidad_sin_Rangos', 'Accesos_tecnologia_localidad', 'Velocidad % por prov', 'Totales VMD', 'Totales Accesos Por Tecnología', 'Accesos Por Tecnología', 'Penetración-poblacion', 'Penetracion-hogares', 'Penetracion-totales', 'Totales Accesos por rango', 'Accesos por rangos', 'Dial-BAf', 'Totales Dial-BAf', 'Ingresos ']\n",
      "Archivo guardado: C:\\Users\\USUARIO\\OneDrive - Secretaria de Educacion del Distrito\\Escritorio\\SOYhENRY\\PI_21\\PI_2_DA_corregido\\data_internet_ind\\Acc_vel_loc_sinrangos.csv\n",
      "Archivo guardado: C:\\Users\\USUARIO\\OneDrive - Secretaria de Educacion del Distrito\\Escritorio\\SOYhENRY\\PI_21\\PI_2_DA_corregido\\data_internet_ind\\Velocidad_sin_Rangos.csv\n",
      "Archivo guardado: C:\\Users\\USUARIO\\OneDrive - Secretaria de Educacion del Distrito\\Escritorio\\SOYhENRY\\PI_21\\PI_2_DA_corregido\\data_internet_ind\\Accesos_tecnologia_localidad.csv\n",
      "Archivo guardado: C:\\Users\\USUARIO\\OneDrive - Secretaria de Educacion del Distrito\\Escritorio\\SOYhENRY\\PI_21\\PI_2_DA_corregido\\data_internet_ind\\Velocidad % por prov.csv\n",
      "Archivo guardado: C:\\Users\\USUARIO\\OneDrive - Secretaria de Educacion del Distrito\\Escritorio\\SOYhENRY\\PI_21\\PI_2_DA_corregido\\data_internet_ind\\Totales VMD.csv\n",
      "Archivo guardado: C:\\Users\\USUARIO\\OneDrive - Secretaria de Educacion del Distrito\\Escritorio\\SOYhENRY\\PI_21\\PI_2_DA_corregido\\data_internet_ind\\Totales Accesos Por Tecnología.csv\n",
      "Archivo guardado: C:\\Users\\USUARIO\\OneDrive - Secretaria de Educacion del Distrito\\Escritorio\\SOYhENRY\\PI_21\\PI_2_DA_corregido\\data_internet_ind\\Accesos Por Tecnología.csv\n",
      "Archivo guardado: C:\\Users\\USUARIO\\OneDrive - Secretaria de Educacion del Distrito\\Escritorio\\SOYhENRY\\PI_21\\PI_2_DA_corregido\\data_internet_ind\\Penetración-poblacion.csv\n",
      "Archivo guardado: C:\\Users\\USUARIO\\OneDrive - Secretaria de Educacion del Distrito\\Escritorio\\SOYhENRY\\PI_21\\PI_2_DA_corregido\\data_internet_ind\\Penetracion-hogares.csv\n",
      "Archivo guardado: C:\\Users\\USUARIO\\OneDrive - Secretaria de Educacion del Distrito\\Escritorio\\SOYhENRY\\PI_21\\PI_2_DA_corregido\\data_internet_ind\\Penetracion-totales.csv\n",
      "Archivo guardado: C:\\Users\\USUARIO\\OneDrive - Secretaria de Educacion del Distrito\\Escritorio\\SOYhENRY\\PI_21\\PI_2_DA_corregido\\data_internet_ind\\Totales Accesos por rango.csv\n",
      "Archivo guardado: C:\\Users\\USUARIO\\OneDrive - Secretaria de Educacion del Distrito\\Escritorio\\SOYhENRY\\PI_21\\PI_2_DA_corregido\\data_internet_ind\\Accesos por rangos.csv\n",
      "Archivo guardado: C:\\Users\\USUARIO\\OneDrive - Secretaria de Educacion del Distrito\\Escritorio\\SOYhENRY\\PI_21\\PI_2_DA_corregido\\data_internet_ind\\Dial-BAf.csv\n",
      "Archivo guardado: C:\\Users\\USUARIO\\OneDrive - Secretaria de Educacion del Distrito\\Escritorio\\SOYhENRY\\PI_21\\PI_2_DA_corregido\\data_internet_ind\\Totales Dial-BAf.csv\n",
      "Archivo guardado: C:\\Users\\USUARIO\\OneDrive - Secretaria de Educacion del Distrito\\Escritorio\\SOYhENRY\\PI_21\\PI_2_DA_corregido\\data_internet_ind\\Ingresos .csv\n"
     ]
    }
   ],
   "source": [
    "import pandas as pd\n",
    "import os\n",
    "\n",
    "# Definir la ruta del archivo de entrada\n",
    "ruta_archivo = r'C:\\Users\\USUARIO\\OneDrive - Secretaria de Educacion del Distrito\\Escritorio\\SOYhENRY\\PI_21\\PI_2_DA_corregido\\data_inicial\\Internet.xlsx'\n",
    "\n",
    "# Definir la carpeta de salida\n",
    "carpeta_salida = r'C:\\Users\\USUARIO\\OneDrive - Secretaria de Educacion del Distrito\\Escritorio\\SOYhENRY\\PI_21\\PI_2_DA_corregido\\data_internet_ind'\n",
    "\n",
    "# Crear la carpeta de salida si no existe\n",
    "os.makedirs(carpeta_salida, exist_ok=True)\n",
    "\n",
    "try:\n",
    "    # Cargar el archivo Excel y obtener nombres de hojas\n",
    "    xls = pd.ExcelFile(ruta_archivo)\n",
    "    nombres_hojas = xls.sheet_names\n",
    "    print(\"Hojas de cálculo en el archivo:\", nombres_hojas)\n",
    "    \n",
    "    # Iterar sobre cada hoja y guardarla como CSV\n",
    "    for hoja in nombres_hojas:\n",
    "        df = pd.read_excel(xls, sheet_name=hoja)\n",
    "        nombre_archivo = os.path.join(carpeta_salida, f'{hoja}.csv')\n",
    "        df.to_csv(nombre_archivo, index=False)\n",
    "        print(f\"Archivo guardado: {nombre_archivo}\")\n",
    "    \n",
    "except FileNotFoundError:\n",
    "    print(f\"Error: No se encontró el archivo en la ruta especificada: {ruta_archivo}\")\n",
    "except Exception as e:\n",
    "    print(f\"Se produjo un error: {e}\")\n"
   ]
  },
  {
   "cell_type": "code",
   "execution_count": 2,
   "metadata": {},
   "outputs": [],
   "source": [
    "import pandas as pd\n",
    "import os"
   ]
  },
  {
   "cell_type": "code",
   "execution_count": 4,
   "metadata": {},
   "outputs": [
    {
     "name": "stdout",
     "output_type": "stream",
     "text": [
      "Archivo guardado: C:\\Users\\USUARIO\\OneDrive - Secretaria de Educacion del Distrito\\Escritorio\\SOYhENRY\\PI_21\\PI_2_DA_corregido\\data_internet_ind\\mapa_conectividad.csv\n"
     ]
    }
   ],
   "source": [
    "# Conversión del archivo 'mapa_conectividad.xlsx' a CSV\n",
    "ruta_archivo_mapa = r'C:\\Users\\USUARIO\\OneDrive - Secretaria de Educacion del Distrito\\Escritorio\\SOYhENRY\\PI_21\\PI_2_DA_corregido\\data_inicial\\mapa_conectividad.xlsx'\n",
    "\n",
    "# Definir la carpeta de salida\n",
    "carpeta_salida = r'C:\\Users\\USUARIO\\OneDrive - Secretaria de Educacion del Distrito\\Escritorio\\SOYhENRY\\PI_21\\PI_2_DA_corregido\\data_internet_ind'\n",
    "\n",
    "try:\n",
    "    # Cargar el archivo Excel\n",
    "    df_mapa = pd.read_excel(ruta_archivo_mapa)\n",
    "    \n",
    "    # Guardar en la carpeta de salida como CSV\n",
    "    nombre_archivo_mapa = os.path.join(carpeta_salida, 'mapa_conectividad.csv')\n",
    "    df_mapa.to_csv(nombre_archivo_mapa, index=False)\n",
    "    print(f\"Archivo guardado: {nombre_archivo_mapa}\")\n",
    "    \n",
    "except FileNotFoundError:\n",
    "    print(f\"Error: No se encontró el archivo en la ruta especificada: {ruta_archivo_mapa}\")\n",
    "except Exception as e:\n",
    "    print(f\"Se produjo un error: {e}\")\n"
   ]
  },
  {
   "cell_type": "code",
   "execution_count": 1,
   "metadata": {},
   "outputs": [
    {
     "name": "stdout",
     "output_type": "stream",
     "text": [
      "Análisis completado. Los resultados se han guardado en 'C:\\Users\\USUARIO\\OneDrive - Secretaria de Educacion del Distrito\\Escritorio\\SOYhENRY\\PI_21\\PI_2_DA_corregido\\data_internet_ind\\columnas_similares.csv'.\n"
     ]
    }
   ],
   "source": [
    "import pandas as pd\n",
    "import os\n",
    "import itertools\n",
    "\n",
    "# Definir la carpeta donde se encuentran los archivos CSV\n",
    "carpeta_csv = r'C:\\Users\\USUARIO\\OneDrive - Secretaria de Educacion del Distrito\\Escritorio\\SOYhENRY\\PI_21\\PI_2_DA_corregido\\data_internet_ind'\n",
    "\n",
    "# Verificar si la carpeta existe\n",
    "if not os.path.exists(carpeta_csv):\n",
    "    print(f\"Error: La carpeta '{carpeta_csv}' no existe.\")\n",
    "    exit()\n",
    "\n",
    "# Obtener la lista de archivos CSV en la carpeta\n",
    "archivos_csv = [f for f in os.listdir(carpeta_csv) if f.endswith('.csv')]\n",
    "\n",
    "if not archivos_csv:\n",
    "    print(\"No se encontraron archivos CSV en la carpeta.\")\n",
    "    exit()\n",
    "\n",
    "# Diccionario para almacenar los nombres de columnas por archivo\n",
    "columnas_por_archivo = {}\n",
    "\n",
    "# Leer los archivos y almacenar sus columnas\n",
    "for archivo in archivos_csv:\n",
    "    ruta_archivo = os.path.join(carpeta_csv, archivo)\n",
    "    try:\n",
    "        df = pd.read_csv(ruta_archivo, nrows=5)  # Leer solo las primeras filas para evitar sobrecarga\n",
    "        columnas_por_archivo[archivo] = df.columns.tolist()\n",
    "    except Exception as e:\n",
    "        print(f\"Error al leer {archivo}: {e}\")\n",
    "\n",
    "# Identificar columnas con nombres similares usando heurística simple\n",
    "columnas_unicas = set(col for cols in columnas_por_archivo.values() for col in cols)\n",
    "similitudes = []\n",
    "\n",
    "for col1, col2 in itertools.combinations(columnas_unicas, 2):\n",
    "    # Convertir a minúsculas y quitar espacios para comparación\n",
    "    col1_clean = col1.lower().replace(\" \", \"\").replace(\"_\", \"\")\n",
    "    col2_clean = col2.lower().replace(\" \", \"\").replace(\"_\", \"\")\n",
    "\n",
    "    # Comprobar si un nombre de columna es parte del otro o si son similares en caracteres\n",
    "    if col1_clean in col2_clean or col2_clean in col1_clean or set(col1_clean) == set(col2_clean):\n",
    "        similitudes.append((col1, col2))\n",
    "\n",
    "# Convertir los resultados en un DataFrame\n",
    "df_similitudes = pd.DataFrame(similitudes, columns=['Columna 1', 'Columna 2'])\n",
    "\n",
    "# Guardar los resultados en un archivo CSV\n",
    "resultado_csv = os.path.join(carpeta_csv, \"columnas_similares.csv\")\n",
    "df_similitudes.to_csv(resultado_csv, index=False)\n",
    "\n",
    "print(f\"Análisis completado. Los resultados se han guardado en '{resultado_csv}'.\")\n",
    "\n",
    "# OPCIONAL: Verificar si las columnas similares contienen datos en común\n",
    "comparacion_datos = []\n",
    "for col1, col2 in similitudes:\n",
    "    for archivo, columnas in columnas_por_archivo.items():\n",
    "        if col1 in columnas and col2 in columnas:\n",
    "            df = pd.read_csv(os.path.join(carpeta_csv, archivo), usecols=[col1, col2])\n",
    "            if not df.empty:\n",
    "                comunes = df[col1].isin(df[col2]).sum()\n",
    "                if comunes > 0:\n",
    "                    comparacion_datos.append((col1, col2, archivo, comunes))\n",
    "\n",
    "if comparacion_datos:\n",
    "    df_comparacion = pd.DataFrame(comparacion_datos, columns=['Columna 1', 'Columna 2', 'Archivo', 'Valores en común'])\n",
    "    resultado_datos_csv = os.path.join(carpeta_csv, \"columnas_datos_comunes.csv\")\n",
    "    df_comparacion.to_csv(resultado_datos_csv, index=False)\n",
    "    print(f\"Se encontró similitud de datos en algunas columnas. Resultados guardados en '{resultado_datos_csv}'.\")\n",
    "\n"
   ]
  }
 ],
 "metadata": {
  "kernelspec": {
   "display_name": "Python 3",
   "language": "python",
   "name": "python3"
  },
  "language_info": {
   "codemirror_mode": {
    "name": "ipython",
    "version": 3
   },
   "file_extension": ".py",
   "mimetype": "text/x-python",
   "name": "python",
   "nbconvert_exporter": "python",
   "pygments_lexer": "ipython3",
   "version": "3.13.0"
  }
 },
 "nbformat": 4,
 "nbformat_minor": 2
}
